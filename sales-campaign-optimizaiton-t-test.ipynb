{
 "cells": [
  {
   "cell_type": "markdown",
   "id": "a22a6369",
   "metadata": {
    "papermill": {
     "duration": 0.019166,
     "end_time": "2022-11-23T14:53:57.767226",
     "exception": false,
     "start_time": "2022-11-23T14:53:57.748060",
     "status": "completed"
    },
    "tags": []
   },
   "source": [
    "## Conclusion\n",
    "\n",
    "> #### 1) The age group 30 to 34 are more likely to be converted than the age group 35 to 39 and the age group 45 to 49; about the same as 40 to 44.\n",
    "> #### 2) The conversion rates for male and female audience are likely to be the same raate.\n",
    "> #### 3) Ads Performance Metrics\n",
    ">> * As for click-through rate, all three campaigns are likely to have the same.\n",
    ">> * As for revenue per 1,000 impressions rate, the ads campaign 1178 is likely to have the highest rate.\n",
    ">> * As for revenue per click rate, the ads campaign 1178 is likely to be have the highest rate.\n",
    "\n",
    "\n",
    "### The Best Target Audience: the age froup 30-35, 40-44\n",
    "### The Most Revenue Generating Ads: the campaign 1178"
   ]
  },
  {
   "cell_type": "code",
   "execution_count": 1,
   "id": "365c66b8",
   "metadata": {
    "_cell_guid": "b1076dfc-b9ad-4769-8c92-a6c4dae69d19",
    "_uuid": "8f2839f25d086af736a60e9eeb907d3b93b6e0e5",
    "execution": {
     "iopub.execute_input": "2022-11-23T14:53:57.804810Z",
     "iopub.status.busy": "2022-11-23T14:53:57.804359Z",
     "iopub.status.idle": "2022-11-23T14:53:57.824618Z",
     "shell.execute_reply": "2022-11-23T14:53:57.823294Z"
    },
    "papermill": {
     "duration": 0.042358,
     "end_time": "2022-11-23T14:53:57.827291",
     "exception": false,
     "start_time": "2022-11-23T14:53:57.784933",
     "status": "completed"
    },
    "tags": []
   },
   "outputs": [
    {
     "name": "stdout",
     "output_type": "stream",
     "text": [
      "/kaggle/input/clicks-conversion-tracking/KAG_conversion_data.csv\n"
     ]
    }
   ],
   "source": [
    "# This Python 3 environment comes with many helpful analytics libraries installed\n",
    "# It is defined by the kaggle/python Docker image: https://github.com/kaggle/docker-python\n",
    "# For example, here's several helpful packages to load\n",
    "\n",
    "import numpy as np # linear algebra\n",
    "import pandas as pd # data processing, CSV file I/O (e.g. pd.read_csv)\n",
    "\n",
    "# Input data files are available in the read-only \"../input/\" directory\n",
    "# For example, running this (by clicking run or pressing Shift+Enter) will list all files under the input directory\n",
    "\n",
    "import os\n",
    "for dirname, _, filenames in os.walk('/kaggle/input'):\n",
    "    for filename in filenames:\n",
    "        print(os.path.join(dirname, filename))\n",
    "\n",
    "# You can write up to 20GB to the current directory (/kaggle/working/) that gets preserved as output when you create a version using \"Save & Run All\" \n",
    "# You can also write temporary files to /kaggle/temp/, but they won't be saved outside of the current session"
   ]
  },
  {
   "cell_type": "code",
   "execution_count": 2,
   "id": "3ef6b167",
   "metadata": {
    "execution": {
     "iopub.execute_input": "2022-11-23T14:53:57.863893Z",
     "iopub.status.busy": "2022-11-23T14:53:57.863525Z",
     "iopub.status.idle": "2022-11-23T14:54:18.779677Z",
     "shell.execute_reply": "2022-11-23T14:54:18.778644Z"
    },
    "papermill": {
     "duration": 20.937529,
     "end_time": "2022-11-23T14:54:18.782244",
     "exception": false,
     "start_time": "2022-11-23T14:53:57.844715",
     "status": "completed"
    },
    "tags": []
   },
   "outputs": [],
   "source": [
    "import matplotlib.pyplot as plt\n",
    "import seaborn as sns\n",
    "!pip install -Uqq pingouin\n",
    "import pingouin\n",
    "from scipy.stats import t"
   ]
  },
  {
   "cell_type": "code",
   "execution_count": 3,
   "id": "15db1b90",
   "metadata": {
    "execution": {
     "iopub.execute_input": "2022-11-23T14:54:18.820205Z",
     "iopub.status.busy": "2022-11-23T14:54:18.819233Z",
     "iopub.status.idle": "2022-11-23T14:54:18.855907Z",
     "shell.execute_reply": "2022-11-23T14:54:18.854715Z"
    },
    "papermill": {
     "duration": 0.057729,
     "end_time": "2022-11-23T14:54:18.858172",
     "exception": false,
     "start_time": "2022-11-23T14:54:18.800443",
     "status": "completed"
    },
    "tags": []
   },
   "outputs": [
    {
     "data": {
      "text/html": [
       "<div>\n",
       "<style scoped>\n",
       "    .dataframe tbody tr th:only-of-type {\n",
       "        vertical-align: middle;\n",
       "    }\n",
       "\n",
       "    .dataframe tbody tr th {\n",
       "        vertical-align: top;\n",
       "    }\n",
       "\n",
       "    .dataframe thead th {\n",
       "        text-align: right;\n",
       "    }\n",
       "</style>\n",
       "<table border=\"1\" class=\"dataframe\">\n",
       "  <thead>\n",
       "    <tr style=\"text-align: right;\">\n",
       "      <th></th>\n",
       "      <th>ad_id</th>\n",
       "      <th>xyz_campaign_id</th>\n",
       "      <th>fb_campaign_id</th>\n",
       "      <th>age</th>\n",
       "      <th>gender</th>\n",
       "      <th>interest</th>\n",
       "      <th>Impressions</th>\n",
       "      <th>Clicks</th>\n",
       "      <th>Spent</th>\n",
       "      <th>Total_Conversion</th>\n",
       "      <th>Approved_Conversion</th>\n",
       "    </tr>\n",
       "  </thead>\n",
       "  <tbody>\n",
       "    <tr>\n",
       "      <th>922</th>\n",
       "      <td>1121944</td>\n",
       "      <td>1178</td>\n",
       "      <td>144681</td>\n",
       "      <td>35-39</td>\n",
       "      <td>F</td>\n",
       "      <td>24</td>\n",
       "      <td>109723</td>\n",
       "      <td>27</td>\n",
       "      <td>40.960000</td>\n",
       "      <td>1</td>\n",
       "      <td>0</td>\n",
       "    </tr>\n",
       "    <tr>\n",
       "      <th>688</th>\n",
       "      <td>1121415</td>\n",
       "      <td>1178</td>\n",
       "      <td>144593</td>\n",
       "      <td>35-39</td>\n",
       "      <td>M</td>\n",
       "      <td>65</td>\n",
       "      <td>113501</td>\n",
       "      <td>26</td>\n",
       "      <td>38.440001</td>\n",
       "      <td>5</td>\n",
       "      <td>4</td>\n",
       "    </tr>\n",
       "    <tr>\n",
       "      <th>995</th>\n",
       "      <td>1122193</td>\n",
       "      <td>1178</td>\n",
       "      <td>144722</td>\n",
       "      <td>45-49</td>\n",
       "      <td>F</td>\n",
       "      <td>10</td>\n",
       "      <td>1358324</td>\n",
       "      <td>346</td>\n",
       "      <td>465.079998</td>\n",
       "      <td>8</td>\n",
       "      <td>2</td>\n",
       "    </tr>\n",
       "    <tr>\n",
       "      <th>510</th>\n",
       "      <td>951853</td>\n",
       "      <td>936</td>\n",
       "      <td>123736</td>\n",
       "      <td>30-34</td>\n",
       "      <td>F</td>\n",
       "      <td>20</td>\n",
       "      <td>529</td>\n",
       "      <td>0</td>\n",
       "      <td>0.000000</td>\n",
       "      <td>0</td>\n",
       "      <td>0</td>\n",
       "    </tr>\n",
       "    <tr>\n",
       "      <th>493</th>\n",
       "      <td>951464</td>\n",
       "      <td>936</td>\n",
       "      <td>123671</td>\n",
       "      <td>45-49</td>\n",
       "      <td>F</td>\n",
       "      <td>16</td>\n",
       "      <td>20997</td>\n",
       "      <td>10</td>\n",
       "      <td>11.950000</td>\n",
       "      <td>1</td>\n",
       "      <td>0</td>\n",
       "    </tr>\n",
       "  </tbody>\n",
       "</table>\n",
       "</div>"
      ],
      "text/plain": [
       "       ad_id  xyz_campaign_id  fb_campaign_id    age gender  interest  \\\n",
       "922  1121944             1178          144681  35-39      F        24   \n",
       "688  1121415             1178          144593  35-39      M        65   \n",
       "995  1122193             1178          144722  45-49      F        10   \n",
       "510   951853              936          123736  30-34      F        20   \n",
       "493   951464              936          123671  45-49      F        16   \n",
       "\n",
       "     Impressions  Clicks       Spent  Total_Conversion  Approved_Conversion  \n",
       "922       109723      27   40.960000                 1                    0  \n",
       "688       113501      26   38.440001                 5                    4  \n",
       "995      1358324     346  465.079998                 8                    2  \n",
       "510          529       0    0.000000                 0                    0  \n",
       "493        20997      10   11.950000                 1                    0  "
      ]
     },
     "execution_count": 3,
     "metadata": {},
     "output_type": "execute_result"
    }
   ],
   "source": [
    "# load marketing data\n",
    "marketing = pd.read_csv('../input/clicks-conversion-tracking/KAG_conversion_data.csv')\n",
    "marketing.sample(5)"
   ]
  },
  {
   "cell_type": "code",
   "execution_count": 4,
   "id": "b537d939",
   "metadata": {
    "execution": {
     "iopub.execute_input": "2022-11-23T14:54:18.895276Z",
     "iopub.status.busy": "2022-11-23T14:54:18.894878Z",
     "iopub.status.idle": "2022-11-23T14:54:18.944901Z",
     "shell.execute_reply": "2022-11-23T14:54:18.943661Z"
    },
    "papermill": {
     "duration": 0.071403,
     "end_time": "2022-11-23T14:54:18.947296",
     "exception": false,
     "start_time": "2022-11-23T14:54:18.875893",
     "status": "completed"
    },
    "tags": []
   },
   "outputs": [
    {
     "data": {
      "text/html": [
       "<div>\n",
       "<style scoped>\n",
       "    .dataframe tbody tr th:only-of-type {\n",
       "        vertical-align: middle;\n",
       "    }\n",
       "\n",
       "    .dataframe tbody tr th {\n",
       "        vertical-align: top;\n",
       "    }\n",
       "\n",
       "    .dataframe thead th {\n",
       "        text-align: right;\n",
       "    }\n",
       "</style>\n",
       "<table border=\"1\" class=\"dataframe\">\n",
       "  <thead>\n",
       "    <tr style=\"text-align: right;\">\n",
       "      <th></th>\n",
       "      <th>ad_id</th>\n",
       "      <th>xyz_campaign_id</th>\n",
       "      <th>fb_campaign_id</th>\n",
       "      <th>age</th>\n",
       "      <th>gender</th>\n",
       "      <th>interest</th>\n",
       "      <th>Impressions</th>\n",
       "      <th>Clicks</th>\n",
       "      <th>Spent</th>\n",
       "      <th>Total_Conversion</th>\n",
       "      <th>Approved_Conversion</th>\n",
       "    </tr>\n",
       "  </thead>\n",
       "  <tbody>\n",
       "    <tr>\n",
       "      <th>count</th>\n",
       "      <td>1.143000e+03</td>\n",
       "      <td>1143.000000</td>\n",
       "      <td>1143.000000</td>\n",
       "      <td>1143</td>\n",
       "      <td>1143</td>\n",
       "      <td>1143.000000</td>\n",
       "      <td>1.143000e+03</td>\n",
       "      <td>1143.000000</td>\n",
       "      <td>1143.000000</td>\n",
       "      <td>1143.000000</td>\n",
       "      <td>1143.000000</td>\n",
       "    </tr>\n",
       "    <tr>\n",
       "      <th>unique</th>\n",
       "      <td>NaN</td>\n",
       "      <td>NaN</td>\n",
       "      <td>NaN</td>\n",
       "      <td>4</td>\n",
       "      <td>2</td>\n",
       "      <td>NaN</td>\n",
       "      <td>NaN</td>\n",
       "      <td>NaN</td>\n",
       "      <td>NaN</td>\n",
       "      <td>NaN</td>\n",
       "      <td>NaN</td>\n",
       "    </tr>\n",
       "    <tr>\n",
       "      <th>top</th>\n",
       "      <td>NaN</td>\n",
       "      <td>NaN</td>\n",
       "      <td>NaN</td>\n",
       "      <td>30-34</td>\n",
       "      <td>M</td>\n",
       "      <td>NaN</td>\n",
       "      <td>NaN</td>\n",
       "      <td>NaN</td>\n",
       "      <td>NaN</td>\n",
       "      <td>NaN</td>\n",
       "      <td>NaN</td>\n",
       "    </tr>\n",
       "    <tr>\n",
       "      <th>freq</th>\n",
       "      <td>NaN</td>\n",
       "      <td>NaN</td>\n",
       "      <td>NaN</td>\n",
       "      <td>426</td>\n",
       "      <td>592</td>\n",
       "      <td>NaN</td>\n",
       "      <td>NaN</td>\n",
       "      <td>NaN</td>\n",
       "      <td>NaN</td>\n",
       "      <td>NaN</td>\n",
       "      <td>NaN</td>\n",
       "    </tr>\n",
       "    <tr>\n",
       "      <th>mean</th>\n",
       "      <td>9.872611e+05</td>\n",
       "      <td>1067.382327</td>\n",
       "      <td>133783.989501</td>\n",
       "      <td>NaN</td>\n",
       "      <td>NaN</td>\n",
       "      <td>32.766404</td>\n",
       "      <td>1.867321e+05</td>\n",
       "      <td>33.390201</td>\n",
       "      <td>51.360656</td>\n",
       "      <td>2.855643</td>\n",
       "      <td>0.944007</td>\n",
       "    </tr>\n",
       "    <tr>\n",
       "      <th>std</th>\n",
       "      <td>1.939928e+05</td>\n",
       "      <td>121.629393</td>\n",
       "      <td>20500.308622</td>\n",
       "      <td>NaN</td>\n",
       "      <td>NaN</td>\n",
       "      <td>26.952131</td>\n",
       "      <td>3.127622e+05</td>\n",
       "      <td>56.892438</td>\n",
       "      <td>86.908418</td>\n",
       "      <td>4.483593</td>\n",
       "      <td>1.737708</td>\n",
       "    </tr>\n",
       "    <tr>\n",
       "      <th>min</th>\n",
       "      <td>7.087460e+05</td>\n",
       "      <td>916.000000</td>\n",
       "      <td>103916.000000</td>\n",
       "      <td>NaN</td>\n",
       "      <td>NaN</td>\n",
       "      <td>2.000000</td>\n",
       "      <td>8.700000e+01</td>\n",
       "      <td>0.000000</td>\n",
       "      <td>0.000000</td>\n",
       "      <td>0.000000</td>\n",
       "      <td>0.000000</td>\n",
       "    </tr>\n",
       "    <tr>\n",
       "      <th>25%</th>\n",
       "      <td>7.776325e+05</td>\n",
       "      <td>936.000000</td>\n",
       "      <td>115716.000000</td>\n",
       "      <td>NaN</td>\n",
       "      <td>NaN</td>\n",
       "      <td>16.000000</td>\n",
       "      <td>6.503500e+03</td>\n",
       "      <td>1.000000</td>\n",
       "      <td>1.480000</td>\n",
       "      <td>1.000000</td>\n",
       "      <td>0.000000</td>\n",
       "    </tr>\n",
       "    <tr>\n",
       "      <th>50%</th>\n",
       "      <td>1.121185e+06</td>\n",
       "      <td>1178.000000</td>\n",
       "      <td>144549.000000</td>\n",
       "      <td>NaN</td>\n",
       "      <td>NaN</td>\n",
       "      <td>25.000000</td>\n",
       "      <td>5.150900e+04</td>\n",
       "      <td>8.000000</td>\n",
       "      <td>12.370000</td>\n",
       "      <td>1.000000</td>\n",
       "      <td>1.000000</td>\n",
       "    </tr>\n",
       "    <tr>\n",
       "      <th>75%</th>\n",
       "      <td>1.121804e+06</td>\n",
       "      <td>1178.000000</td>\n",
       "      <td>144657.500000</td>\n",
       "      <td>NaN</td>\n",
       "      <td>NaN</td>\n",
       "      <td>31.000000</td>\n",
       "      <td>2.217690e+05</td>\n",
       "      <td>37.500000</td>\n",
       "      <td>60.025000</td>\n",
       "      <td>3.000000</td>\n",
       "      <td>1.000000</td>\n",
       "    </tr>\n",
       "    <tr>\n",
       "      <th>max</th>\n",
       "      <td>1.314415e+06</td>\n",
       "      <td>1178.000000</td>\n",
       "      <td>179982.000000</td>\n",
       "      <td>NaN</td>\n",
       "      <td>NaN</td>\n",
       "      <td>114.000000</td>\n",
       "      <td>3.052003e+06</td>\n",
       "      <td>421.000000</td>\n",
       "      <td>639.949998</td>\n",
       "      <td>60.000000</td>\n",
       "      <td>21.000000</td>\n",
       "    </tr>\n",
       "  </tbody>\n",
       "</table>\n",
       "</div>"
      ],
      "text/plain": [
       "               ad_id  xyz_campaign_id  fb_campaign_id    age gender  \\\n",
       "count   1.143000e+03      1143.000000     1143.000000   1143   1143   \n",
       "unique           NaN              NaN             NaN      4      2   \n",
       "top              NaN              NaN             NaN  30-34      M   \n",
       "freq             NaN              NaN             NaN    426    592   \n",
       "mean    9.872611e+05      1067.382327   133783.989501    NaN    NaN   \n",
       "std     1.939928e+05       121.629393    20500.308622    NaN    NaN   \n",
       "min     7.087460e+05       916.000000   103916.000000    NaN    NaN   \n",
       "25%     7.776325e+05       936.000000   115716.000000    NaN    NaN   \n",
       "50%     1.121185e+06      1178.000000   144549.000000    NaN    NaN   \n",
       "75%     1.121804e+06      1178.000000   144657.500000    NaN    NaN   \n",
       "max     1.314415e+06      1178.000000   179982.000000    NaN    NaN   \n",
       "\n",
       "           interest   Impressions       Clicks        Spent  Total_Conversion  \\\n",
       "count   1143.000000  1.143000e+03  1143.000000  1143.000000       1143.000000   \n",
       "unique          NaN           NaN          NaN          NaN               NaN   \n",
       "top             NaN           NaN          NaN          NaN               NaN   \n",
       "freq            NaN           NaN          NaN          NaN               NaN   \n",
       "mean      32.766404  1.867321e+05    33.390201    51.360656          2.855643   \n",
       "std       26.952131  3.127622e+05    56.892438    86.908418          4.483593   \n",
       "min        2.000000  8.700000e+01     0.000000     0.000000          0.000000   \n",
       "25%       16.000000  6.503500e+03     1.000000     1.480000          1.000000   \n",
       "50%       25.000000  5.150900e+04     8.000000    12.370000          1.000000   \n",
       "75%       31.000000  2.217690e+05    37.500000    60.025000          3.000000   \n",
       "max      114.000000  3.052003e+06   421.000000   639.949998         60.000000   \n",
       "\n",
       "        Approved_Conversion  \n",
       "count           1143.000000  \n",
       "unique                  NaN  \n",
       "top                     NaN  \n",
       "freq                    NaN  \n",
       "mean               0.944007  \n",
       "std                1.737708  \n",
       "min                0.000000  \n",
       "25%                0.000000  \n",
       "50%                1.000000  \n",
       "75%                1.000000  \n",
       "max               21.000000  "
      ]
     },
     "execution_count": 4,
     "metadata": {},
     "output_type": "execute_result"
    }
   ],
   "source": [
    "# view statistics\n",
    "marketing.describe(include = 'all')"
   ]
  },
  {
   "cell_type": "markdown",
   "id": "cd7d69ed",
   "metadata": {
    "papermill": {
     "duration": 0.017467,
     "end_time": "2022-11-23T14:54:18.983185",
     "exception": false,
     "start_time": "2022-11-23T14:54:18.965718",
     "status": "completed"
    },
    "tags": []
   },
   "source": [
    "#### Considering the difference betwee max value and mean, it appears some rows have outliers. "
   ]
  },
  {
   "cell_type": "code",
   "execution_count": 5,
   "id": "4342b5a0",
   "metadata": {
    "execution": {
     "iopub.execute_input": "2022-11-23T14:54:19.021539Z",
     "iopub.status.busy": "2022-11-23T14:54:19.020882Z",
     "iopub.status.idle": "2022-11-23T14:54:19.036234Z",
     "shell.execute_reply": "2022-11-23T14:54:19.035074Z"
    },
    "papermill": {
     "duration": 0.037304,
     "end_time": "2022-11-23T14:54:19.038710",
     "exception": false,
     "start_time": "2022-11-23T14:54:19.001406",
     "status": "completed"
    },
    "tags": []
   },
   "outputs": [
    {
     "name": "stdout",
     "output_type": "stream",
     "text": [
      "<class 'pandas.core.frame.DataFrame'>\n",
      "RangeIndex: 1143 entries, 0 to 1142\n",
      "Data columns (total 11 columns):\n",
      " #   Column               Non-Null Count  Dtype  \n",
      "---  ------               --------------  -----  \n",
      " 0   ad_id                1143 non-null   int64  \n",
      " 1   xyz_campaign_id      1143 non-null   int64  \n",
      " 2   fb_campaign_id       1143 non-null   int64  \n",
      " 3   age                  1143 non-null   object \n",
      " 4   gender               1143 non-null   object \n",
      " 5   interest             1143 non-null   int64  \n",
      " 6   Impressions          1143 non-null   int64  \n",
      " 7   Clicks               1143 non-null   int64  \n",
      " 8   Spent                1143 non-null   float64\n",
      " 9   Total_Conversion     1143 non-null   int64  \n",
      " 10  Approved_Conversion  1143 non-null   int64  \n",
      "dtypes: float64(1), int64(8), object(2)\n",
      "memory usage: 98.4+ KB\n"
     ]
    }
   ],
   "source": [
    "# check the number of missing data and data type by columns\n",
    "marketing.info()"
   ]
  },
  {
   "cell_type": "markdown",
   "id": "3ef571fe",
   "metadata": {
    "papermill": {
     "duration": 0.018031,
     "end_time": "2022-11-23T14:54:19.074785",
     "exception": false,
     "start_time": "2022-11-23T14:54:19.056754",
     "status": "completed"
    },
    "tags": []
   },
   "source": [
    "#### There are no missing values and all columns have appropriate data type."
   ]
  },
  {
   "cell_type": "markdown",
   "id": "3477763c",
   "metadata": {
    "papermill": {
     "duration": 0.018007,
     "end_time": "2022-11-23T14:54:19.110578",
     "exception": false,
     "start_time": "2022-11-23T14:54:19.092571",
     "status": "completed"
    },
    "tags": []
   },
   "source": [
    "## Exploratory Data Analysis"
   ]
  },
  {
   "cell_type": "markdown",
   "id": "6994d447",
   "metadata": {
    "papermill": {
     "duration": 0.017539,
     "end_time": "2022-11-23T14:54:19.146476",
     "exception": false,
     "start_time": "2022-11-23T14:54:19.128937",
     "status": "completed"
    },
    "tags": []
   },
   "source": [
    "### 1. How many advertisements does this data have? "
   ]
  },
  {
   "cell_type": "code",
   "execution_count": 6,
   "id": "9d5fb509",
   "metadata": {
    "execution": {
     "iopub.execute_input": "2022-11-23T14:54:19.189760Z",
     "iopub.status.busy": "2022-11-23T14:54:19.189347Z",
     "iopub.status.idle": "2022-11-23T14:54:19.197898Z",
     "shell.execute_reply": "2022-11-23T14:54:19.196851Z"
    },
    "papermill": {
     "duration": 0.033033,
     "end_time": "2022-11-23T14:54:19.199970",
     "exception": false,
     "start_time": "2022-11-23T14:54:19.166937",
     "status": "completed"
    },
    "tags": []
   },
   "outputs": [
    {
     "data": {
      "text/plain": [
       "1143"
      ]
     },
     "execution_count": 6,
     "metadata": {},
     "output_type": "execute_result"
    }
   ],
   "source": [
    "marketing['ad_id'].nunique()"
   ]
  },
  {
   "cell_type": "code",
   "execution_count": 7,
   "id": "6f4886b8",
   "metadata": {
    "execution": {
     "iopub.execute_input": "2022-11-23T14:54:19.238895Z",
     "iopub.status.busy": "2022-11-23T14:54:19.237562Z",
     "iopub.status.idle": "2022-11-23T14:54:19.244822Z",
     "shell.execute_reply": "2022-11-23T14:54:19.243857Z"
    },
    "papermill": {
     "duration": 0.028714,
     "end_time": "2022-11-23T14:54:19.246841",
     "exception": false,
     "start_time": "2022-11-23T14:54:19.218127",
     "status": "completed"
    },
    "tags": []
   },
   "outputs": [
    {
     "data": {
      "text/plain": [
       "3"
      ]
     },
     "execution_count": 7,
     "metadata": {},
     "output_type": "execute_result"
    }
   ],
   "source": [
    "marketing['xyz_campaign_id'].nunique()"
   ]
  },
  {
   "cell_type": "code",
   "execution_count": 8,
   "id": "861f3833",
   "metadata": {
    "execution": {
     "iopub.execute_input": "2022-11-23T14:54:19.285483Z",
     "iopub.status.busy": "2022-11-23T14:54:19.285041Z",
     "iopub.status.idle": "2022-11-23T14:54:19.291947Z",
     "shell.execute_reply": "2022-11-23T14:54:19.291100Z"
    },
    "papermill": {
     "duration": 0.028692,
     "end_time": "2022-11-23T14:54:19.293930",
     "exception": false,
     "start_time": "2022-11-23T14:54:19.265238",
     "status": "completed"
    },
    "tags": []
   },
   "outputs": [
    {
     "data": {
      "text/plain": [
       "691"
      ]
     },
     "execution_count": 8,
     "metadata": {},
     "output_type": "execute_result"
    }
   ],
   "source": [
    "marketing['fb_campaign_id'].nunique()"
   ]
  },
  {
   "cell_type": "markdown",
   "id": "866f60c1",
   "metadata": {
    "papermill": {
     "duration": 0.018492,
     "end_time": "2022-11-23T14:54:19.330936",
     "exception": false,
     "start_time": "2022-11-23T14:54:19.312444",
     "status": "completed"
    },
    "tags": []
   },
   "source": [
    "#### The column, 'ad_id' has all unique ids while 'xyz_campaign_id' and 'fb_compaign_id' have 3, 691 unique ids. "
   ]
  },
  {
   "cell_type": "markdown",
   "id": "812f3fc4",
   "metadata": {
    "papermill": {
     "duration": 0.018166,
     "end_time": "2022-11-23T14:54:19.368546",
     "exception": false,
     "start_time": "2022-11-23T14:54:19.350380",
     "status": "completed"
    },
    "tags": []
   },
   "source": [
    "### 2.How many impressions/clicks/sales did each ad campaigns generate?"
   ]
  },
  {
   "cell_type": "code",
   "execution_count": 9,
   "id": "3495da3f",
   "metadata": {
    "execution": {
     "iopub.execute_input": "2022-11-23T14:54:19.407190Z",
     "iopub.status.busy": "2022-11-23T14:54:19.406775Z",
     "iopub.status.idle": "2022-11-23T14:54:19.422610Z",
     "shell.execute_reply": "2022-11-23T14:54:19.421784Z"
    },
    "papermill": {
     "duration": 0.037496,
     "end_time": "2022-11-23T14:54:19.424574",
     "exception": false,
     "start_time": "2022-11-23T14:54:19.387078",
     "status": "completed"
    },
    "tags": []
   },
   "outputs": [
    {
     "data": {
      "text/html": [
       "<div>\n",
       "<style scoped>\n",
       "    .dataframe tbody tr th:only-of-type {\n",
       "        vertical-align: middle;\n",
       "    }\n",
       "\n",
       "    .dataframe tbody tr th {\n",
       "        vertical-align: top;\n",
       "    }\n",
       "\n",
       "    .dataframe thead th {\n",
       "        text-align: right;\n",
       "    }\n",
       "</style>\n",
       "<table border=\"1\" class=\"dataframe\">\n",
       "  <thead>\n",
       "    <tr style=\"text-align: right;\">\n",
       "      <th></th>\n",
       "      <th>xyz_campaign_id</th>\n",
       "      <th>Impressions</th>\n",
       "      <th>Clicks</th>\n",
       "      <th>Spent</th>\n",
       "    </tr>\n",
       "  </thead>\n",
       "  <tbody>\n",
       "    <tr>\n",
       "      <th>0</th>\n",
       "      <td>916</td>\n",
       "      <td>482925</td>\n",
       "      <td>113</td>\n",
       "      <td>149.710001</td>\n",
       "    </tr>\n",
       "    <tr>\n",
       "      <th>1</th>\n",
       "      <td>936</td>\n",
       "      <td>8128187</td>\n",
       "      <td>1984</td>\n",
       "      <td>2893.369999</td>\n",
       "    </tr>\n",
       "    <tr>\n",
       "      <th>2</th>\n",
       "      <td>1178</td>\n",
       "      <td>204823716</td>\n",
       "      <td>36068</td>\n",
       "      <td>55662.149959</td>\n",
       "    </tr>\n",
       "  </tbody>\n",
       "</table>\n",
       "</div>"
      ],
      "text/plain": [
       "   xyz_campaign_id  Impressions  Clicks         Spent\n",
       "0              916       482925     113    149.710001\n",
       "1              936      8128187    1984   2893.369999\n",
       "2             1178    204823716   36068  55662.149959"
      ]
     },
     "execution_count": 9,
     "metadata": {},
     "output_type": "execute_result"
    }
   ],
   "source": [
    "xyz_imp = marketing.groupby('xyz_campaign_id', as_index = False).agg({'Impressions': 'sum', 'Clicks': 'sum', 'Spent': 'sum'})\n",
    "xyz_imp"
   ]
  },
  {
   "cell_type": "code",
   "execution_count": 10,
   "id": "c15983a9",
   "metadata": {
    "execution": {
     "iopub.execute_input": "2022-11-23T14:54:19.463970Z",
     "iopub.status.busy": "2022-11-23T14:54:19.463324Z",
     "iopub.status.idle": "2022-11-23T14:54:19.478612Z",
     "shell.execute_reply": "2022-11-23T14:54:19.477522Z"
    },
    "papermill": {
     "duration": 0.037378,
     "end_time": "2022-11-23T14:54:19.480667",
     "exception": false,
     "start_time": "2022-11-23T14:54:19.443289",
     "status": "completed"
    },
    "tags": []
   },
   "outputs": [
    {
     "data": {
      "text/html": [
       "<div>\n",
       "<style scoped>\n",
       "    .dataframe tbody tr th:only-of-type {\n",
       "        vertical-align: middle;\n",
       "    }\n",
       "\n",
       "    .dataframe tbody tr th {\n",
       "        vertical-align: top;\n",
       "    }\n",
       "\n",
       "    .dataframe thead th {\n",
       "        text-align: right;\n",
       "    }\n",
       "</style>\n",
       "<table border=\"1\" class=\"dataframe\">\n",
       "  <thead>\n",
       "    <tr style=\"text-align: right;\">\n",
       "      <th></th>\n",
       "      <th>xyz_campaign_id</th>\n",
       "      <th>result</th>\n",
       "      <th>total</th>\n",
       "    </tr>\n",
       "  </thead>\n",
       "  <tbody>\n",
       "    <tr>\n",
       "      <th>0</th>\n",
       "      <td>916</td>\n",
       "      <td>Impressions</td>\n",
       "      <td>4.829250e+05</td>\n",
       "    </tr>\n",
       "    <tr>\n",
       "      <th>1</th>\n",
       "      <td>936</td>\n",
       "      <td>Impressions</td>\n",
       "      <td>8.128187e+06</td>\n",
       "    </tr>\n",
       "    <tr>\n",
       "      <th>2</th>\n",
       "      <td>1178</td>\n",
       "      <td>Impressions</td>\n",
       "      <td>2.048237e+08</td>\n",
       "    </tr>\n",
       "    <tr>\n",
       "      <th>3</th>\n",
       "      <td>916</td>\n",
       "      <td>Clicks</td>\n",
       "      <td>1.130000e+02</td>\n",
       "    </tr>\n",
       "    <tr>\n",
       "      <th>4</th>\n",
       "      <td>936</td>\n",
       "      <td>Clicks</td>\n",
       "      <td>1.984000e+03</td>\n",
       "    </tr>\n",
       "    <tr>\n",
       "      <th>5</th>\n",
       "      <td>1178</td>\n",
       "      <td>Clicks</td>\n",
       "      <td>3.606800e+04</td>\n",
       "    </tr>\n",
       "    <tr>\n",
       "      <th>6</th>\n",
       "      <td>916</td>\n",
       "      <td>Spent</td>\n",
       "      <td>1.497100e+02</td>\n",
       "    </tr>\n",
       "    <tr>\n",
       "      <th>7</th>\n",
       "      <td>936</td>\n",
       "      <td>Spent</td>\n",
       "      <td>2.893370e+03</td>\n",
       "    </tr>\n",
       "    <tr>\n",
       "      <th>8</th>\n",
       "      <td>1178</td>\n",
       "      <td>Spent</td>\n",
       "      <td>5.566215e+04</td>\n",
       "    </tr>\n",
       "  </tbody>\n",
       "</table>\n",
       "</div>"
      ],
      "text/plain": [
       "   xyz_campaign_id       result         total\n",
       "0              916  Impressions  4.829250e+05\n",
       "1              936  Impressions  8.128187e+06\n",
       "2             1178  Impressions  2.048237e+08\n",
       "3              916       Clicks  1.130000e+02\n",
       "4              936       Clicks  1.984000e+03\n",
       "5             1178       Clicks  3.606800e+04\n",
       "6              916        Spent  1.497100e+02\n",
       "7              936        Spent  2.893370e+03\n",
       "8             1178        Spent  5.566215e+04"
      ]
     },
     "execution_count": 10,
     "metadata": {},
     "output_type": "execute_result"
    }
   ],
   "source": [
    "melt = pd.melt(xyz_imp, id_vars = ['xyz_campaign_id'], value_vars = ['Impressions', 'Clicks', 'Spent'], var_name = 'result', value_name = 'total')\n",
    "melt"
   ]
  },
  {
   "cell_type": "code",
   "execution_count": 11,
   "id": "336882e6",
   "metadata": {
    "execution": {
     "iopub.execute_input": "2022-11-23T14:54:19.520526Z",
     "iopub.status.busy": "2022-11-23T14:54:19.519878Z",
     "iopub.status.idle": "2022-11-23T14:54:20.123131Z",
     "shell.execute_reply": "2022-11-23T14:54:20.122068Z"
    },
    "papermill": {
     "duration": 0.626283,
     "end_time": "2022-11-23T14:54:20.125769",
     "exception": false,
     "start_time": "2022-11-23T14:54:19.499486",
     "status": "completed"
    },
    "tags": []
   },
   "outputs": [
    {
     "data": {
      "image/png": "[encoded data removed]",
      "text/plain": [
       "<Figure size 1080x360 with 3 Axes>"
      ]
     },
     "metadata": {
      "needs_background": "light"
     },
     "output_type": "display_data"
    }
   ],
   "source": [
    "sns.catplot(x = 'xyz_campaign_id', y = 'total', col = 'result', data = melt, kind = 'bar', sharey = False)\n",
    "plt.show()"
   ]
  },
  {
   "cell_type": "markdown",
   "id": "ebc29131",
   "metadata": {
    "papermill": {
     "duration": 0.018765,
     "end_time": "2022-11-23T14:54:20.163876",
     "exception": false,
     "start_time": "2022-11-23T14:54:20.145111",
     "status": "completed"
    },
    "tags": []
   },
   "source": [
    "### 3. What are Conversion Rates of Each Campaigns?\n",
    "\n",
    "In this data, each ads have the following information related to conversion rate.\n",
    "\n",
    "- Impressions: the number of times the ad was shown.\n",
    "- Total_Conversions: the number of people who enquired about the product after seeing the ad\n",
    "- Approved_Conversions: the number of people who bought the product after seeing the ad\n",
    "\n",
    "Therefore, I will calculate two conversion rates by dividing total number of conversion by total number of impression.\n"
   ]
  },
  {
   "cell_type": "code",
   "execution_count": 12,
   "id": "679d0653",
   "metadata": {
    "execution": {
     "iopub.execute_input": "2022-11-23T14:54:20.203801Z",
     "iopub.status.busy": "2022-11-23T14:54:20.203407Z",
     "iopub.status.idle": "2022-11-23T14:54:20.211364Z",
     "shell.execute_reply": "2022-11-23T14:54:20.210145Z"
    },
    "papermill": {
     "duration": 0.030538,
     "end_time": "2022-11-23T14:54:20.213628",
     "exception": false,
     "start_time": "2022-11-23T14:54:20.183090",
     "status": "completed"
    },
    "tags": []
   },
   "outputs": [
    {
     "name": "stdout",
     "output_type": "stream",
     "text": [
      "Conversion Rate (Enquiry):  0.0015 %\n",
      "Conversion Rate (Purchase):  0.0005 %\n"
     ]
    }
   ],
   "source": [
    "# Conversion rate 1\n",
    "# number of product enquiries / number of ad impression\n",
    "enquiry_conv = marketing['Total_Conversion'].sum()/ marketing['Impressions'].sum()\n",
    "\n",
    "# Conversion rate 2\n",
    "# number of product purchase / number of ad impression\n",
    "purchase_conv = marketing['Approved_Conversion'].sum()/ marketing['Impressions'].sum()\n",
    "\n",
    "print(f'Conversion Rate (Enquiry): {enquiry_conv *100 : .4f} %')\n",
    "print(f'Conversion Rate (Purchase): {purchase_conv *100 : .4f} %')"
   ]
  },
  {
   "cell_type": "code",
   "execution_count": 13,
   "id": "a6103e79",
   "metadata": {
    "execution": {
     "iopub.execute_input": "2022-11-23T14:54:20.254430Z",
     "iopub.status.busy": "2022-11-23T14:54:20.253987Z",
     "iopub.status.idle": "2022-11-23T14:54:20.267672Z",
     "shell.execute_reply": "2022-11-23T14:54:20.266688Z"
    },
    "papermill": {
     "duration": 0.036471,
     "end_time": "2022-11-23T14:54:20.269838",
     "exception": false,
     "start_time": "2022-11-23T14:54:20.233367",
     "status": "completed"
    },
    "tags": []
   },
   "outputs": [
    {
     "data": {
      "text/html": [
       "<div>\n",
       "<style scoped>\n",
       "    .dataframe tbody tr th:only-of-type {\n",
       "        vertical-align: middle;\n",
       "    }\n",
       "\n",
       "    .dataframe tbody tr th {\n",
       "        vertical-align: top;\n",
       "    }\n",
       "\n",
       "    .dataframe thead th {\n",
       "        text-align: right;\n",
       "    }\n",
       "</style>\n",
       "<table border=\"1\" class=\"dataframe\">\n",
       "  <thead>\n",
       "    <tr style=\"text-align: right;\">\n",
       "      <th></th>\n",
       "      <th>Impressions</th>\n",
       "      <th>Total_Conversion</th>\n",
       "      <th>Approved_Conversion</th>\n",
       "    </tr>\n",
       "    <tr>\n",
       "      <th>xyz_campaign_id</th>\n",
       "      <th></th>\n",
       "      <th></th>\n",
       "      <th></th>\n",
       "    </tr>\n",
       "  </thead>\n",
       "  <tbody>\n",
       "    <tr>\n",
       "      <th>916</th>\n",
       "      <td>482925</td>\n",
       "      <td>58</td>\n",
       "      <td>24</td>\n",
       "    </tr>\n",
       "    <tr>\n",
       "      <th>936</th>\n",
       "      <td>8128187</td>\n",
       "      <td>537</td>\n",
       "      <td>183</td>\n",
       "    </tr>\n",
       "    <tr>\n",
       "      <th>1178</th>\n",
       "      <td>204823716</td>\n",
       "      <td>2669</td>\n",
       "      <td>872</td>\n",
       "    </tr>\n",
       "  </tbody>\n",
       "</table>\n",
       "</div>"
      ],
      "text/plain": [
       "                 Impressions  Total_Conversion  Approved_Conversion\n",
       "xyz_campaign_id                                                    \n",
       "916                   482925                58                   24\n",
       "936                  8128187               537                  183\n",
       "1178               204823716              2669                  872"
      ]
     },
     "execution_count": 13,
     "metadata": {},
     "output_type": "execute_result"
    }
   ],
   "source": [
    "# aggregate impressions and conversion by campaign id\n",
    "conv_by_cam = marketing.groupby('xyz_campaign_id').agg({'Impressions': 'sum', 'Total_Conversion':'sum', 'Approved_Conversion':'sum'})\n",
    "conv_by_cam"
   ]
  },
  {
   "cell_type": "code",
   "execution_count": 14,
   "id": "74d33634",
   "metadata": {
    "execution": {
     "iopub.execute_input": "2022-11-23T14:54:20.310146Z",
     "iopub.status.busy": "2022-11-23T14:54:20.309731Z",
     "iopub.status.idle": "2022-11-23T14:54:20.315651Z",
     "shell.execute_reply": "2022-11-23T14:54:20.314523Z"
    },
    "papermill": {
     "duration": 0.028869,
     "end_time": "2022-11-23T14:54:20.318055",
     "exception": false,
     "start_time": "2022-11-23T14:54:20.289186",
     "status": "completed"
    },
    "tags": []
   },
   "outputs": [],
   "source": [
    "conv_by_cam.reset_index(inplace = True)"
   ]
  },
  {
   "cell_type": "code",
   "execution_count": 15,
   "id": "060d56cf",
   "metadata": {
    "execution": {
     "iopub.execute_input": "2022-11-23T14:54:20.359551Z",
     "iopub.status.busy": "2022-11-23T14:54:20.357864Z",
     "iopub.status.idle": "2022-11-23T14:54:20.371709Z",
     "shell.execute_reply": "2022-11-23T14:54:20.370926Z"
    },
    "papermill": {
     "duration": 0.036389,
     "end_time": "2022-11-23T14:54:20.373756",
     "exception": false,
     "start_time": "2022-11-23T14:54:20.337367",
     "status": "completed"
    },
    "tags": []
   },
   "outputs": [
    {
     "data": {
      "text/html": [
       "<div>\n",
       "<style scoped>\n",
       "    .dataframe tbody tr th:only-of-type {\n",
       "        vertical-align: middle;\n",
       "    }\n",
       "\n",
       "    .dataframe tbody tr th {\n",
       "        vertical-align: top;\n",
       "    }\n",
       "\n",
       "    .dataframe thead th {\n",
       "        text-align: right;\n",
       "    }\n",
       "</style>\n",
       "<table border=\"1\" class=\"dataframe\">\n",
       "  <thead>\n",
       "    <tr style=\"text-align: right;\">\n",
       "      <th></th>\n",
       "      <th>xyz_campaign_id</th>\n",
       "      <th>Impressions</th>\n",
       "      <th>Total_Conversion</th>\n",
       "      <th>Approved_Conversion</th>\n",
       "      <th>conversion_rate_en</th>\n",
       "      <th>conversion_rate_pur</th>\n",
       "    </tr>\n",
       "  </thead>\n",
       "  <tbody>\n",
       "    <tr>\n",
       "      <th>0</th>\n",
       "      <td>916</td>\n",
       "      <td>482925</td>\n",
       "      <td>58</td>\n",
       "      <td>24</td>\n",
       "      <td>0.012010</td>\n",
       "      <td>0.004970</td>\n",
       "    </tr>\n",
       "    <tr>\n",
       "      <th>1</th>\n",
       "      <td>936</td>\n",
       "      <td>8128187</td>\n",
       "      <td>537</td>\n",
       "      <td>183</td>\n",
       "      <td>0.006607</td>\n",
       "      <td>0.002251</td>\n",
       "    </tr>\n",
       "    <tr>\n",
       "      <th>2</th>\n",
       "      <td>1178</td>\n",
       "      <td>204823716</td>\n",
       "      <td>2669</td>\n",
       "      <td>872</td>\n",
       "      <td>0.001303</td>\n",
       "      <td>0.000426</td>\n",
       "    </tr>\n",
       "  </tbody>\n",
       "</table>\n",
       "</div>"
      ],
      "text/plain": [
       "   xyz_campaign_id  Impressions  Total_Conversion  Approved_Conversion  \\\n",
       "0              916       482925                58                   24   \n",
       "1              936      8128187               537                  183   \n",
       "2             1178    204823716              2669                  872   \n",
       "\n",
       "   conversion_rate_en  conversion_rate_pur  \n",
       "0            0.012010             0.004970  \n",
       "1            0.006607             0.002251  \n",
       "2            0.001303             0.000426  "
      ]
     },
     "execution_count": 15,
     "metadata": {},
     "output_type": "execute_result"
    }
   ],
   "source": [
    "conv_by_cam['conversion_rate_en'], conv_by_cam['conversion_rate_pur'] = conv_by_cam['Total_Conversion'] /  conv_by_cam['Impressions'] * 100, \\\n",
    "                                                                        conv_by_cam['Approved_Conversion'] /  conv_by_cam['Impressions'] *100\n",
    "conv_by_cam"
   ]
  },
  {
   "cell_type": "code",
   "execution_count": 16,
   "id": "9ade61d0",
   "metadata": {
    "execution": {
     "iopub.execute_input": "2022-11-23T14:54:20.414352Z",
     "iopub.status.busy": "2022-11-23T14:54:20.413932Z",
     "iopub.status.idle": "2022-11-23T14:54:20.687333Z",
     "shell.execute_reply": "2022-11-23T14:54:20.686020Z"
    },
    "papermill": {
     "duration": 0.296405,
     "end_time": "2022-11-23T14:54:20.689689",
     "exception": false,
     "start_time": "2022-11-23T14:54:20.393284",
     "status": "completed"
    },
    "tags": []
   },
   "outputs": [
    {
     "data": {
      "image/png": "[encoded data removed]",
      "text/plain": [
       "<Figure size 720x360 with 2 Axes>"
      ]
     },
     "metadata": {
      "needs_background": "light"
     },
     "output_type": "display_data"
    }
   ],
   "source": [
    "\n",
    "fig, ax = plt.subplots(nrows = 1, ncols= 2, figsize = (10, 5))\n",
    "sns.barplot(x = 'xyz_campaign_id', y = 'conversion_rate_en', data = conv_by_cam, ax= ax[0])\n",
    "sns.barplot(x = 'xyz_campaign_id', y = 'conversion_rate_pur', data = conv_by_cam, ax= ax[1])\n",
    "ax[0].set_title('Conversion Rate (%) : Enquiry')\n",
    "ax[1].set_title('Conversion Rate (%) : Purchase')\n",
    "plt.show()"
   ]
  },
  {
   "cell_type": "markdown",
   "id": "32725c32",
   "metadata": {
    "papermill": {
     "duration": 0.0197,
     "end_time": "2022-11-23T14:54:20.729365",
     "exception": false,
     "start_time": "2022-11-23T14:54:20.709665",
     "status": "completed"
    },
    "tags": []
   },
   "source": [
    "#### - The campaign, 916 showed the highest conversion, 936 the second, and 1178 the least in both conversion rates (enquiry-based and purchase-based)."
   ]
  },
  {
   "cell_type": "markdown",
   "id": "9cb5bdfe",
   "metadata": {
    "papermill": {
     "duration": 0.019409,
     "end_time": "2022-11-23T14:54:20.768553",
     "exception": false,
     "start_time": "2022-11-23T14:54:20.749144",
     "status": "completed"
    },
    "tags": []
   },
   "source": [
    "### 4. Customer Segmentation\n",
    "\n",
    "Let's break down conversion rate by customer groups."
   ]
  },
  {
   "cell_type": "markdown",
   "id": "ed3d4be1",
   "metadata": {
    "papermill": {
     "duration": 0.019321,
     "end_time": "2022-11-23T14:54:20.807537",
     "exception": false,
     "start_time": "2022-11-23T14:54:20.788216",
     "status": "completed"
    },
    "tags": []
   },
   "source": [
    "#### 1) By Age Group"
   ]
  },
  {
   "cell_type": "code",
   "execution_count": 17,
   "id": "be93dd9e",
   "metadata": {
    "execution": {
     "iopub.execute_input": "2022-11-23T14:54:20.849641Z",
     "iopub.status.busy": "2022-11-23T14:54:20.848302Z",
     "iopub.status.idle": "2022-11-23T14:54:21.018798Z",
     "shell.execute_reply": "2022-11-23T14:54:21.017317Z"
    },
    "papermill": {
     "duration": 0.194033,
     "end_time": "2022-11-23T14:54:21.021408",
     "exception": false,
     "start_time": "2022-11-23T14:54:20.827375",
     "status": "completed"
    },
    "tags": []
   },
   "outputs": [
    {
     "data": {
      "image/png": "[encoded data removed]",
      "text/plain": [
       "<Figure size 432x288 with 1 Axes>"
      ]
     },
     "metadata": {
      "needs_background": "light"
     },
     "output_type": "display_data"
    }
   ],
   "source": [
    "marketing['age'].value_counts().plot(kind = 'bar')\n",
    "plt.show()"
   ]
  },
  {
   "cell_type": "markdown",
   "id": "524cd56c",
   "metadata": {
    "papermill": {
     "duration": 0.022531,
     "end_time": "2022-11-23T14:54:21.074571",
     "exception": false,
     "start_time": "2022-11-23T14:54:21.052040",
     "status": "completed"
    },
    "tags": []
   },
   "source": [
    "#### The dataset comprised the most ads targeted audience aged 30 to 34."
   ]
  },
  {
   "cell_type": "code",
   "execution_count": 18,
   "id": "9449d8fb",
   "metadata": {
    "execution": {
     "iopub.execute_input": "2022-11-23T14:54:21.117876Z",
     "iopub.status.busy": "2022-11-23T14:54:21.116706Z",
     "iopub.status.idle": "2022-11-23T14:54:21.301211Z",
     "shell.execute_reply": "2022-11-23T14:54:21.300210Z"
    },
    "papermill": {
     "duration": 0.209138,
     "end_time": "2022-11-23T14:54:21.304106",
     "exception": false,
     "start_time": "2022-11-23T14:54:21.094968",
     "status": "completed"
    },
    "tags": []
   },
   "outputs": [
    {
     "data": {
      "image/png": "[encoded data removed]",
      "text/plain": [
       "<Figure size 432x288 with 1 Axes>"
      ]
     },
     "metadata": {
      "needs_background": "light"
     },
     "output_type": "display_data"
    }
   ],
   "source": [
    "imp_by_age = marketing.groupby('age')['Impressions'].sum()\n",
    "imp_by_age.plot(kind = 'bar')\n",
    "plt.show()"
   ]
  },
  {
   "cell_type": "markdown",
   "id": "abc85913",
   "metadata": {
    "papermill": {
     "duration": 0.028443,
     "end_time": "2022-11-23T14:54:21.356650",
     "exception": false,
     "start_time": "2022-11-23T14:54:21.328207",
     "status": "completed"
    },
    "tags": []
   },
   "source": [
    "#### - As for the number of impression, one for age group 30 to 34 was the highest.\n",
    "#### - The impressions for the audience aged 45 to 49 was almost as high as one for 30 to 34 although the number of ads run was much lower."
   ]
  },
  {
   "cell_type": "code",
   "execution_count": 19,
   "id": "e768e6da",
   "metadata": {
    "execution": {
     "iopub.execute_input": "2022-11-23T14:54:21.402119Z",
     "iopub.status.busy": "2022-11-23T14:54:21.401615Z",
     "iopub.status.idle": "2022-11-23T14:54:21.721311Z",
     "shell.execute_reply": "2022-11-23T14:54:21.720153Z"
    },
    "papermill": {
     "duration": 0.346259,
     "end_time": "2022-11-23T14:54:21.723598",
     "exception": false,
     "start_time": "2022-11-23T14:54:21.377339",
     "status": "completed"
    },
    "tags": []
   },
   "outputs": [
    {
     "data": {
      "image/png": "[encoded data removed]",
      "text/plain": [
       "<Figure size 432x288 with 1 Axes>"
      ]
     },
     "metadata": {
      "needs_background": "light"
     },
     "output_type": "display_data"
    }
   ],
   "source": [
    "enquiry_by_age = marketing.groupby('age')['Total_Conversion'].sum()\n",
    "enquiry_by_age.plot(kind = 'bar')\n",
    "plt.show()"
   ]
  },
  {
   "cell_type": "code",
   "execution_count": 20,
   "id": "55956c6d",
   "metadata": {
    "execution": {
     "iopub.execute_input": "2022-11-23T14:54:21.767194Z",
     "iopub.status.busy": "2022-11-23T14:54:21.766136Z",
     "iopub.status.idle": "2022-11-23T14:54:21.924407Z",
     "shell.execute_reply": "2022-11-23T14:54:21.923520Z"
    },
    "papermill": {
     "duration": 0.182441,
     "end_time": "2022-11-23T14:54:21.926765",
     "exception": false,
     "start_time": "2022-11-23T14:54:21.744324",
     "status": "completed"
    },
    "tags": []
   },
   "outputs": [
    {
     "data": {
      "image/png": "[encoded data removed]",
      "text/plain": [
       "<Figure size 432x288 with 1 Axes>"
      ]
     },
     "metadata": {
      "needs_background": "light"
     },
     "output_type": "display_data"
    }
   ],
   "source": [
    "purchase_by_age = marketing.groupby('age')['Approved_Conversion'].sum()\n",
    "purchase_by_age.plot(kind = 'bar')\n",
    "plt.show()"
   ]
  },
  {
   "cell_type": "markdown",
   "id": "3fa80479",
   "metadata": {
    "papermill": {
     "duration": 0.021471,
     "end_time": "2022-11-23T14:54:21.969380",
     "exception": false,
     "start_time": "2022-11-23T14:54:21.947909",
     "status": "completed"
    },
    "tags": []
   },
   "source": [
    "#### - As you can see above, the ads impression to the age group 45 to 49 was the second highest \n",
    "#### - The ads impression to the age group 45 to 49 was much higher than the group 35 to 39 and 40 to 44. \n",
    "#### - However, that didn't make impact on conversion.\n",
    "#### - From dataset, the cause of high impression of ads on age group 45 to 49 isn't clear.\n",
    "#### = Possibly, it could be that more budget was given on the ads targeting the age group 44 to 49 or some keywords in the ads might have triggered the ads to be shown more to them.\n",
    "#### - Nonetheless, the ads targed the age group 45 to 49 didn't make good performance."
   ]
  },
  {
   "cell_type": "code",
   "execution_count": 21,
   "id": "4cff08b1",
   "metadata": {
    "execution": {
     "iopub.execute_input": "2022-11-23T14:54:22.014130Z",
     "iopub.status.busy": "2022-11-23T14:54:22.013373Z",
     "iopub.status.idle": "2022-11-23T14:54:22.019079Z",
     "shell.execute_reply": "2022-11-23T14:54:22.018302Z"
    },
    "papermill": {
     "duration": 0.030798,
     "end_time": "2022-11-23T14:54:22.021399",
     "exception": false,
     "start_time": "2022-11-23T14:54:21.990601",
     "status": "completed"
    },
    "tags": []
   },
   "outputs": [],
   "source": [
    "conv_rate = round(enquiry_by_age / imp_by_age *100, 4)"
   ]
  },
  {
   "cell_type": "code",
   "execution_count": 22,
   "id": "fbf6c051",
   "metadata": {
    "execution": {
     "iopub.execute_input": "2022-11-23T14:54:22.067504Z",
     "iopub.status.busy": "2022-11-23T14:54:22.066733Z",
     "iopub.status.idle": "2022-11-23T14:54:22.074753Z",
     "shell.execute_reply": "2022-11-23T14:54:22.073748Z"
    },
    "papermill": {
     "duration": 0.032501,
     "end_time": "2022-11-23T14:54:22.077004",
     "exception": false,
     "start_time": "2022-11-23T14:54:22.044503",
     "status": "completed"
    },
    "tags": []
   },
   "outputs": [
    {
     "data": {
      "text/plain": [
       "age\n",
       "30-34    0.0021\n",
       "35-39    0.0015\n",
       "40-44    0.0013\n",
       "45-49    0.0011\n",
       "dtype: float64"
      ]
     },
     "execution_count": 22,
     "metadata": {},
     "output_type": "execute_result"
    }
   ],
   "source": [
    "conv_rate"
   ]
  },
  {
   "cell_type": "code",
   "execution_count": 23,
   "id": "20a27667",
   "metadata": {
    "execution": {
     "iopub.execute_input": "2022-11-23T14:54:22.121232Z",
     "iopub.status.busy": "2022-11-23T14:54:22.120479Z",
     "iopub.status.idle": "2022-11-23T14:54:22.314990Z",
     "shell.execute_reply": "2022-11-23T14:54:22.314132Z"
    },
    "papermill": {
     "duration": 0.21943,
     "end_time": "2022-11-23T14:54:22.317351",
     "exception": false,
     "start_time": "2022-11-23T14:54:22.097921",
     "status": "completed"
    },
    "tags": []
   },
   "outputs": [
    {
     "data": {
      "image/png": "[encoded data removed]",
      "text/plain": [
       "<Figure size 432x288 with 1 Axes>"
      ]
     },
     "metadata": {
      "needs_background": "light"
     },
     "output_type": "display_data"
    }
   ],
   "source": [
    "conv_rate.plot(kind = 'bar', color = 'g')\n",
    "plt.axhline(y = enquiry_conv * 100, linestyle = '--')\n",
    "plt.title('Conversion Rate (Product Enquiry) by Age Group', fontsize = 15, pad = 20)\n",
    "plt.ylabel('% Conversion Rate')\n",
    "plt.show()"
   ]
  },
  {
   "cell_type": "markdown",
   "id": "c27e2e9b",
   "metadata": {
    "papermill": {
     "duration": 0.020876,
     "end_time": "2022-11-23T14:54:22.359526",
     "exception": false,
     "start_time": "2022-11-23T14:54:22.338650",
     "status": "completed"
    },
    "tags": []
   },
   "source": [
    "#### Product-Enquiry Based Conversion Rate\n",
    "#### - The conversion rate, 0.002% in the age group between 30 to 34 was the highest.\n",
    "#### - It was higher than the average conversion rate, 0.0015%."
   ]
  },
  {
   "cell_type": "code",
   "execution_count": 24,
   "id": "b3cc1dba",
   "metadata": {
    "execution": {
     "iopub.execute_input": "2022-11-23T14:54:22.403521Z",
     "iopub.status.busy": "2022-11-23T14:54:22.403104Z",
     "iopub.status.idle": "2022-11-23T14:54:22.408515Z",
     "shell.execute_reply": "2022-11-23T14:54:22.407735Z"
    },
    "papermill": {
     "duration": 0.030236,
     "end_time": "2022-11-23T14:54:22.410758",
     "exception": false,
     "start_time": "2022-11-23T14:54:22.380522",
     "status": "completed"
    },
    "tags": []
   },
   "outputs": [],
   "source": [
    "conv_rate_pur = purchase_by_age / imp_by_age *100"
   ]
  },
  {
   "cell_type": "code",
   "execution_count": 25,
   "id": "5718b401",
   "metadata": {
    "execution": {
     "iopub.execute_input": "2022-11-23T14:54:22.456403Z",
     "iopub.status.busy": "2022-11-23T14:54:22.456002Z",
     "iopub.status.idle": "2022-11-23T14:54:22.645415Z",
     "shell.execute_reply": "2022-11-23T14:54:22.644313Z"
    },
    "papermill": {
     "duration": 0.215259,
     "end_time": "2022-11-23T14:54:22.647655",
     "exception": false,
     "start_time": "2022-11-23T14:54:22.432396",
     "status": "completed"
    },
    "tags": []
   },
   "outputs": [
    {
     "data": {
      "image/png": "[encoded data removed]",
      "text/plain": [
       "<Figure size 432x288 with 1 Axes>"
      ]
     },
     "metadata": {
      "needs_background": "light"
     },
     "output_type": "display_data"
    }
   ],
   "source": [
    "round(conv_rate_pur, 4).plot(kind = 'bar')\n",
    "plt.axhline(y = purchase_conv * 100, linestyle = '--')\n",
    "plt.title('Conversion Rate (Purchase) by Age Group', fontsize = 15, pad = 20)\n",
    "plt.ylabel('% Conversion Rate')\n",
    "plt.show()"
   ]
  },
  {
   "cell_type": "markdown",
   "id": "181224de",
   "metadata": {
    "papermill": {
     "duration": 0.02122,
     "end_time": "2022-11-23T14:54:22.690467",
     "exception": false,
     "start_time": "2022-11-23T14:54:22.669247",
     "status": "completed"
    },
    "tags": []
   },
   "source": [
    "#### Purchase Based Conversion Rate\n",
    "#### - The conversion rate, 0.0007% in the age group between 30 to 34 was the highest.\n",
    "#### - It was higher than the average conversion rate, 0.0005%."
   ]
  },
  {
   "cell_type": "markdown",
   "id": "62b05d0d",
   "metadata": {
    "papermill": {
     "duration": 0.021121,
     "end_time": "2022-11-23T14:54:22.733566",
     "exception": false,
     "start_time": "2022-11-23T14:54:22.712445",
     "status": "completed"
    },
    "tags": []
   },
   "source": [
    "#### 2) By Gender"
   ]
  },
  {
   "cell_type": "code",
   "execution_count": 26,
   "id": "f16f8a71",
   "metadata": {
    "execution": {
     "iopub.execute_input": "2022-11-23T14:54:22.777863Z",
     "iopub.status.busy": "2022-11-23T14:54:22.777465Z",
     "iopub.status.idle": "2022-11-23T14:54:22.923903Z",
     "shell.execute_reply": "2022-11-23T14:54:22.922727Z"
    },
    "papermill": {
     "duration": 0.171664,
     "end_time": "2022-11-23T14:54:22.926609",
     "exception": false,
     "start_time": "2022-11-23T14:54:22.754945",
     "status": "completed"
    },
    "tags": []
   },
   "outputs": [
    {
     "data": {
      "image/png": "[encoded data removed]",
      "text/plain": [
       "<Figure size 432x288 with 1 Axes>"
      ]
     },
     "metadata": {
      "needs_background": "light"
     },
     "output_type": "display_data"
    }
   ],
   "source": [
    "marketing['gender'].value_counts().plot(kind = 'bar')\n",
    "plt.show()"
   ]
  },
  {
   "cell_type": "markdown",
   "id": "6338134b",
   "metadata": {
    "papermill": {
     "duration": 0.021376,
     "end_time": "2022-11-23T14:54:22.969815",
     "exception": false,
     "start_time": "2022-11-23T14:54:22.948439",
     "status": "completed"
    },
    "tags": []
   },
   "source": [
    "#### Both genders have similar number of ads in this dataset."
   ]
  },
  {
   "cell_type": "code",
   "execution_count": 27,
   "id": "8ef4d580",
   "metadata": {
    "execution": {
     "iopub.execute_input": "2022-11-23T14:54:23.015651Z",
     "iopub.status.busy": "2022-11-23T14:54:23.014480Z",
     "iopub.status.idle": "2022-11-23T14:54:23.170619Z",
     "shell.execute_reply": "2022-11-23T14:54:23.169463Z"
    },
    "papermill": {
     "duration": 0.181133,
     "end_time": "2022-11-23T14:54:23.172873",
     "exception": false,
     "start_time": "2022-11-23T14:54:22.991740",
     "status": "completed"
    },
    "tags": []
   },
   "outputs": [
    {
     "data": {
      "image/png": "[encoded data removed]",
      "text/plain": [
       "<Figure size 432x288 with 1 Axes>"
      ]
     },
     "metadata": {
      "needs_background": "light"
     },
     "output_type": "display_data"
    }
   ],
   "source": [
    "imp_by_gender = marketing.groupby('gender')['Impressions'].sum()\n",
    "imp_by_gender.plot(kind = 'bar')\n",
    "plt.show()"
   ]
  },
  {
   "cell_type": "markdown",
   "id": "d2f60695",
   "metadata": {
    "papermill": {
     "duration": 0.021435,
     "end_time": "2022-11-23T14:54:23.216222",
     "exception": false,
     "start_time": "2022-11-23T14:54:23.194787",
     "status": "completed"
    },
    "tags": []
   },
   "source": [
    "#### The ads were shown slightly more to female audience. "
   ]
  },
  {
   "cell_type": "code",
   "execution_count": 28,
   "id": "6945a369",
   "metadata": {
    "execution": {
     "iopub.execute_input": "2022-11-23T14:54:23.261818Z",
     "iopub.status.busy": "2022-11-23T14:54:23.261387Z",
     "iopub.status.idle": "2022-11-23T14:54:23.426286Z",
     "shell.execute_reply": "2022-11-23T14:54:23.425056Z"
    },
    "papermill": {
     "duration": 0.190804,
     "end_time": "2022-11-23T14:54:23.428851",
     "exception": false,
     "start_time": "2022-11-23T14:54:23.238047",
     "status": "completed"
    },
    "tags": []
   },
   "outputs": [
    {
     "data": {
      "image/png": "[encoded data removed]",
      "text/plain": [
       "<Figure size 432x288 with 1 Axes>"
      ]
     },
     "metadata": {
      "needs_background": "light"
     },
     "output_type": "display_data"
    }
   ],
   "source": [
    "enquiry_by_gender = marketing.groupby('gender')['Total_Conversion'].sum()\n",
    "enquiry_by_gender.plot(kind = 'bar')\n",
    "plt.show()"
   ]
  },
  {
   "cell_type": "markdown",
   "id": "1a105248",
   "metadata": {
    "papermill": {
     "duration": 0.021792,
     "end_time": "2022-11-23T14:54:23.472802",
     "exception": false,
     "start_time": "2022-11-23T14:54:23.451010",
     "status": "completed"
    },
    "tags": []
   },
   "source": [
    "#### As for the number of the product enquiries, both gender had almost the same."
   ]
  },
  {
   "cell_type": "code",
   "execution_count": 29,
   "id": "5be81ba5",
   "metadata": {
    "execution": {
     "iopub.execute_input": "2022-11-23T14:54:23.518740Z",
     "iopub.status.busy": "2022-11-23T14:54:23.518312Z",
     "iopub.status.idle": "2022-11-23T14:54:23.685675Z",
     "shell.execute_reply": "2022-11-23T14:54:23.681085Z"
    },
    "papermill": {
     "duration": 0.194872,
     "end_time": "2022-11-23T14:54:23.689766",
     "exception": false,
     "start_time": "2022-11-23T14:54:23.494894",
     "status": "completed"
    },
    "tags": []
   },
   "outputs": [
    {
     "data": {
      "image/png": "[encoded data removed]",
      "text/plain": [
       "<Figure size 432x288 with 1 Axes>"
      ]
     },
     "metadata": {
      "needs_background": "light"
     },
     "output_type": "display_data"
    }
   ],
   "source": [
    "purchase_by_gender = marketing.groupby('gender')['Approved_Conversion'].sum()\n",
    "purchase_by_gender.plot(kind = 'bar')\n",
    "plt.show()"
   ]
  },
  {
   "cell_type": "markdown",
   "id": "ab795d09",
   "metadata": {
    "papermill": {
     "duration": 0.025018,
     "end_time": "2022-11-23T14:54:23.737819",
     "exception": false,
     "start_time": "2022-11-23T14:54:23.712801",
     "status": "completed"
    },
    "tags": []
   },
   "source": [
    "#### On the other hand, actual purchase done by male was higher than by female."
   ]
  },
  {
   "cell_type": "code",
   "execution_count": 30,
   "id": "dba6855d",
   "metadata": {
    "execution": {
     "iopub.execute_input": "2022-11-23T14:54:23.783871Z",
     "iopub.status.busy": "2022-11-23T14:54:23.783477Z",
     "iopub.status.idle": "2022-11-23T14:54:23.791733Z",
     "shell.execute_reply": "2022-11-23T14:54:23.790744Z"
    },
    "papermill": {
     "duration": 0.033805,
     "end_time": "2022-11-23T14:54:23.793874",
     "exception": false,
     "start_time": "2022-11-23T14:54:23.760069",
     "status": "completed"
    },
    "tags": []
   },
   "outputs": [
    {
     "data": {
      "text/plain": [
       "gender\n",
       "F    0.001431\n",
       "M    0.001643\n",
       "dtype: float64"
      ]
     },
     "execution_count": 30,
     "metadata": {},
     "output_type": "execute_result"
    }
   ],
   "source": [
    "enquiry_by_gender / imp_by_gender * 100"
   ]
  },
  {
   "cell_type": "code",
   "execution_count": 31,
   "id": "0c5c00ae",
   "metadata": {
    "execution": {
     "iopub.execute_input": "2022-11-23T14:54:23.842637Z",
     "iopub.status.busy": "2022-11-23T14:54:23.841972Z",
     "iopub.status.idle": "2022-11-23T14:54:23.850739Z",
     "shell.execute_reply": "2022-11-23T14:54:23.849687Z"
    },
    "papermill": {
     "duration": 0.036059,
     "end_time": "2022-11-23T14:54:23.853168",
     "exception": false,
     "start_time": "2022-11-23T14:54:23.817109",
     "status": "completed"
    },
    "tags": []
   },
   "outputs": [
    {
     "data": {
      "text/plain": [
       "gender\n",
       "F    0.000431\n",
       "M    0.000592\n",
       "dtype: float64"
      ]
     },
     "execution_count": 31,
     "metadata": {},
     "output_type": "execute_result"
    }
   ],
   "source": [
    "purchase_by_gender / imp_by_gender * 100"
   ]
  },
  {
   "cell_type": "code",
   "execution_count": 32,
   "id": "f5e6bdfe",
   "metadata": {
    "execution": {
     "iopub.execute_input": "2022-11-23T14:54:23.900357Z",
     "iopub.status.busy": "2022-11-23T14:54:23.899925Z",
     "iopub.status.idle": "2022-11-23T14:54:24.089162Z",
     "shell.execute_reply": "2022-11-23T14:54:24.088075Z"
    },
    "papermill": {
     "duration": 0.216141,
     "end_time": "2022-11-23T14:54:24.091877",
     "exception": false,
     "start_time": "2022-11-23T14:54:23.875736",
     "status": "completed"
    },
    "tags": []
   },
   "outputs": [
    {
     "data": {
      "image/png": "[encoded data removed]",
      "text/plain": [
       "<Figure size 432x288 with 1 Axes>"
      ]
     },
     "metadata": {
      "needs_background": "light"
     },
     "output_type": "display_data"
    }
   ],
   "source": [
    "round(enquiry_by_gender / imp_by_gender * 100, 4).plot(kind = 'bar', color = 'g')\n",
    "plt.axhline(y = enquiry_conv * 100, linestyle = '--')\n",
    "plt.title('Conversion Rate (Product Enquiry) by Gender', fontsize = 15, pad = 20)\n",
    "plt.xticks([0,1], ['Female', 'Male'], rotation = 0)\n",
    "plt.ylabel('% Conversion Rate')\n",
    "plt.show()"
   ]
  },
  {
   "cell_type": "markdown",
   "id": "171ae151",
   "metadata": {
    "papermill": {
     "duration": 0.02236,
     "end_time": "2022-11-23T14:54:24.137195",
     "exception": false,
     "start_time": "2022-11-23T14:54:24.114835",
     "status": "completed"
    },
    "tags": []
   },
   "source": [
    "#### Product-Enquiry Based Conversion Rate\n",
    "#### - The conversion rate, 0.0016% of male was the higher than female.\n",
    "#### - It was slightly higher than the average conversion rate, 0.0015%."
   ]
  },
  {
   "cell_type": "code",
   "execution_count": 33,
   "id": "070fde29",
   "metadata": {
    "execution": {
     "iopub.execute_input": "2022-11-23T14:54:24.185504Z",
     "iopub.status.busy": "2022-11-23T14:54:24.184303Z",
     "iopub.status.idle": "2022-11-23T14:54:24.362178Z",
     "shell.execute_reply": "2022-11-23T14:54:24.361347Z"
    },
    "papermill": {
     "duration": 0.20435,
     "end_time": "2022-11-23T14:54:24.364531",
     "exception": false,
     "start_time": "2022-11-23T14:54:24.160181",
     "status": "completed"
    },
    "tags": []
   },
   "outputs": [
    {
     "data": {
      "image/png": "[encoded data removed]",
      "text/plain": [
       "<Figure size 432x288 with 1 Axes>"
      ]
     },
     "metadata": {
      "needs_background": "light"
     },
     "output_type": "display_data"
    }
   ],
   "source": [
    "round(purchase_by_gender / imp_by_gender * 100, 4).plot(kind = 'bar')\n",
    "plt.axhline(y = purchase_conv * 100, linestyle = '--')\n",
    "plt.title('Conversion Rate (Purchase) by Gender', fontsize = 15, pad = 20)\n",
    "plt.xticks([0,1], ['Female', 'Male'], rotation = 0)\n",
    "plt.ylabel('% Conversion Rate')\n",
    "plt.show()"
   ]
  },
  {
   "cell_type": "markdown",
   "id": "66dd02f3",
   "metadata": {
    "papermill": {
     "duration": 0.023022,
     "end_time": "2022-11-23T14:54:24.410797",
     "exception": false,
     "start_time": "2022-11-23T14:54:24.387775",
     "status": "completed"
    },
    "tags": []
   },
   "source": [
    "#### Purchase Based Conversion Rate\n",
    "#### - The conversion rate, 0.0006% of male was the higher than female.\n",
    "#### - It was higher than the average conversion rate, 0.0005%."
   ]
  },
  {
   "cell_type": "markdown",
   "id": "dc846ab1",
   "metadata": {
    "papermill": {
     "duration": 0.023088,
     "end_time": "2022-11-23T14:54:24.457932",
     "exception": false,
     "start_time": "2022-11-23T14:54:24.434844",
     "status": "completed"
    },
    "tags": []
   },
   "source": [
    "### 4. Which Campaign occurred the most / least clicks per impression?"
   ]
  },
  {
   "cell_type": "code",
   "execution_count": 34,
   "id": "d5e5d2ec",
   "metadata": {
    "execution": {
     "iopub.execute_input": "2022-11-23T14:54:24.506852Z",
     "iopub.status.busy": "2022-11-23T14:54:24.506043Z",
     "iopub.status.idle": "2022-11-23T14:54:24.516451Z",
     "shell.execute_reply": "2022-11-23T14:54:24.515490Z"
    },
    "papermill": {
     "duration": 0.037929,
     "end_time": "2022-11-23T14:54:24.519134",
     "exception": false,
     "start_time": "2022-11-23T14:54:24.481205",
     "status": "completed"
    },
    "tags": []
   },
   "outputs": [],
   "source": [
    "performance = marketing.groupby('xyz_campaign_id').agg({'Impressions': 'sum', \n",
    "                                                        'Clicks': 'sum', \n",
    "                                                        'Spent': 'sum', \n",
    "                                                        'Total_Conversion': 'sum', \n",
    "                                                        'Approved_Conversion': 'sum'})"
   ]
  },
  {
   "cell_type": "code",
   "execution_count": 35,
   "id": "a20ac620",
   "metadata": {
    "execution": {
     "iopub.execute_input": "2022-11-23T14:54:24.568429Z",
     "iopub.status.busy": "2022-11-23T14:54:24.568011Z",
     "iopub.status.idle": "2022-11-23T14:54:24.573656Z",
     "shell.execute_reply": "2022-11-23T14:54:24.572361Z"
    },
    "papermill": {
     "duration": 0.032835,
     "end_time": "2022-11-23T14:54:24.576010",
     "exception": false,
     "start_time": "2022-11-23T14:54:24.543175",
     "status": "completed"
    },
    "tags": []
   },
   "outputs": [],
   "source": [
    "performance.reset_index(inplace = True)"
   ]
  },
  {
   "cell_type": "code",
   "execution_count": 36,
   "id": "37a06066",
   "metadata": {
    "execution": {
     "iopub.execute_input": "2022-11-23T14:54:24.624502Z",
     "iopub.status.busy": "2022-11-23T14:54:24.624092Z",
     "iopub.status.idle": "2022-11-23T14:54:24.635901Z",
     "shell.execute_reply": "2022-11-23T14:54:24.634929Z"
    },
    "papermill": {
     "duration": 0.038591,
     "end_time": "2022-11-23T14:54:24.638028",
     "exception": false,
     "start_time": "2022-11-23T14:54:24.599437",
     "status": "completed"
    },
    "tags": []
   },
   "outputs": [
    {
     "data": {
      "text/html": [
       "<div>\n",
       "<style scoped>\n",
       "    .dataframe tbody tr th:only-of-type {\n",
       "        vertical-align: middle;\n",
       "    }\n",
       "\n",
       "    .dataframe tbody tr th {\n",
       "        vertical-align: top;\n",
       "    }\n",
       "\n",
       "    .dataframe thead th {\n",
       "        text-align: right;\n",
       "    }\n",
       "</style>\n",
       "<table border=\"1\" class=\"dataframe\">\n",
       "  <thead>\n",
       "    <tr style=\"text-align: right;\">\n",
       "      <th></th>\n",
       "      <th>xyz_campaign_id</th>\n",
       "      <th>Impressions</th>\n",
       "      <th>Clicks</th>\n",
       "      <th>Spent</th>\n",
       "      <th>Total_Conversion</th>\n",
       "      <th>Approved_Conversion</th>\n",
       "    </tr>\n",
       "  </thead>\n",
       "  <tbody>\n",
       "    <tr>\n",
       "      <th>0</th>\n",
       "      <td>916</td>\n",
       "      <td>482925</td>\n",
       "      <td>113</td>\n",
       "      <td>149.710001</td>\n",
       "      <td>58</td>\n",
       "      <td>24</td>\n",
       "    </tr>\n",
       "    <tr>\n",
       "      <th>1</th>\n",
       "      <td>936</td>\n",
       "      <td>8128187</td>\n",
       "      <td>1984</td>\n",
       "      <td>2893.369999</td>\n",
       "      <td>537</td>\n",
       "      <td>183</td>\n",
       "    </tr>\n",
       "    <tr>\n",
       "      <th>2</th>\n",
       "      <td>1178</td>\n",
       "      <td>204823716</td>\n",
       "      <td>36068</td>\n",
       "      <td>55662.149959</td>\n",
       "      <td>2669</td>\n",
       "      <td>872</td>\n",
       "    </tr>\n",
       "  </tbody>\n",
       "</table>\n",
       "</div>"
      ],
      "text/plain": [
       "   xyz_campaign_id  Impressions  Clicks         Spent  Total_Conversion  \\\n",
       "0              916       482925     113    149.710001                58   \n",
       "1              936      8128187    1984   2893.369999               537   \n",
       "2             1178    204823716   36068  55662.149959              2669   \n",
       "\n",
       "   Approved_Conversion  \n",
       "0                   24  \n",
       "1                  183  \n",
       "2                  872  "
      ]
     },
     "execution_count": 36,
     "metadata": {},
     "output_type": "execute_result"
    }
   ],
   "source": [
    "performance"
   ]
  },
  {
   "cell_type": "code",
   "execution_count": 37,
   "id": "a6a35b20",
   "metadata": {
    "execution": {
     "iopub.execute_input": "2022-11-23T14:54:24.687533Z",
     "iopub.status.busy": "2022-11-23T14:54:24.686812Z",
     "iopub.status.idle": "2022-11-23T14:54:24.694917Z",
     "shell.execute_reply": "2022-11-23T14:54:24.694139Z"
    },
    "papermill": {
     "duration": 0.035414,
     "end_time": "2022-11-23T14:54:24.697031",
     "exception": false,
     "start_time": "2022-11-23T14:54:24.661617",
     "status": "completed"
    },
    "tags": []
   },
   "outputs": [],
   "source": [
    "# add columns of online ads metrics\n",
    "\n",
    "# CTR (Click Through Rate)\n",
    "performance['ctr'] = performance['Clicks'] / performance['Impressions'] *100\n",
    "\n",
    "# RPM (Revenue Per Mille) \n",
    "# Mille here indicates 1,000 impressions\n",
    "performance['rpm']= performance['Spent'] / performance['Impressions'] /1000\n",
    "\n",
    "# RPC (Revenue Per Click)\n",
    "performance['rpc']= performance['Spent'] / performance['Clicks']"
   ]
  },
  {
   "cell_type": "code",
   "execution_count": 38,
   "id": "aa1d8d1b",
   "metadata": {
    "execution": {
     "iopub.execute_input": "2022-11-23T14:54:24.747293Z",
     "iopub.status.busy": "2022-11-23T14:54:24.746589Z",
     "iopub.status.idle": "2022-11-23T14:54:24.759606Z",
     "shell.execute_reply": "2022-11-23T14:54:24.758534Z"
    },
    "papermill": {
     "duration": 0.041286,
     "end_time": "2022-11-23T14:54:24.762070",
     "exception": false,
     "start_time": "2022-11-23T14:54:24.720784",
     "status": "completed"
    },
    "tags": []
   },
   "outputs": [
    {
     "data": {
      "text/html": [
       "<div>\n",
       "<style scoped>\n",
       "    .dataframe tbody tr th:only-of-type {\n",
       "        vertical-align: middle;\n",
       "    }\n",
       "\n",
       "    .dataframe tbody tr th {\n",
       "        vertical-align: top;\n",
       "    }\n",
       "\n",
       "    .dataframe thead th {\n",
       "        text-align: right;\n",
       "    }\n",
       "</style>\n",
       "<table border=\"1\" class=\"dataframe\">\n",
       "  <thead>\n",
       "    <tr style=\"text-align: right;\">\n",
       "      <th></th>\n",
       "      <th>xyz_campaign_id</th>\n",
       "      <th>Impressions</th>\n",
       "      <th>Clicks</th>\n",
       "      <th>Spent</th>\n",
       "      <th>Total_Conversion</th>\n",
       "      <th>Approved_Conversion</th>\n",
       "      <th>ctr</th>\n",
       "      <th>rpm</th>\n",
       "      <th>rpc</th>\n",
       "    </tr>\n",
       "  </thead>\n",
       "  <tbody>\n",
       "    <tr>\n",
       "      <th>0</th>\n",
       "      <td>916</td>\n",
       "      <td>482925</td>\n",
       "      <td>113</td>\n",
       "      <td>149.710001</td>\n",
       "      <td>58</td>\n",
       "      <td>24</td>\n",
       "      <td>0.023399</td>\n",
       "      <td>3.100067e-07</td>\n",
       "      <td>1.324867</td>\n",
       "    </tr>\n",
       "    <tr>\n",
       "      <th>1</th>\n",
       "      <td>936</td>\n",
       "      <td>8128187</td>\n",
       "      <td>1984</td>\n",
       "      <td>2893.369999</td>\n",
       "      <td>537</td>\n",
       "      <td>183</td>\n",
       "      <td>0.024409</td>\n",
       "      <td>3.559674e-07</td>\n",
       "      <td>1.458352</td>\n",
       "    </tr>\n",
       "    <tr>\n",
       "      <th>2</th>\n",
       "      <td>1178</td>\n",
       "      <td>204823716</td>\n",
       "      <td>36068</td>\n",
       "      <td>55662.149959</td>\n",
       "      <td>2669</td>\n",
       "      <td>872</td>\n",
       "      <td>0.017609</td>\n",
       "      <td>2.717564e-07</td>\n",
       "      <td>1.543256</td>\n",
       "    </tr>\n",
       "  </tbody>\n",
       "</table>\n",
       "</div>"
      ],
      "text/plain": [
       "   xyz_campaign_id  Impressions  Clicks         Spent  Total_Conversion  \\\n",
       "0              916       482925     113    149.710001                58   \n",
       "1              936      8128187    1984   2893.369999               537   \n",
       "2             1178    204823716   36068  55662.149959              2669   \n",
       "\n",
       "   Approved_Conversion       ctr           rpm       rpc  \n",
       "0                   24  0.023399  3.100067e-07  1.324867  \n",
       "1                  183  0.024409  3.559674e-07  1.458352  \n",
       "2                  872  0.017609  2.717564e-07  1.543256  "
      ]
     },
     "execution_count": 38,
     "metadata": {},
     "output_type": "execute_result"
    }
   ],
   "source": [
    "performance"
   ]
  },
  {
   "cell_type": "markdown",
   "id": "8157d87f",
   "metadata": {
    "papermill": {
     "duration": 0.023193,
     "end_time": "2022-11-23T14:54:24.808822",
     "exception": false,
     "start_time": "2022-11-23T14:54:24.785629",
     "status": "completed"
    },
    "tags": []
   },
   "source": [
    "#### - As for click-through rate, the ads campaign 936 was the highest.\n",
    "#### - As for revenue per mille rate, the ads campaign 936 was also the highest.\n",
    "#### - As for revenue per click rate, the ads campaign 1178 was the highest."
   ]
  },
  {
   "cell_type": "markdown",
   "id": "7fce020e",
   "metadata": {
    "papermill": {
     "duration": 0.023097,
     "end_time": "2022-11-23T14:54:24.855183",
     "exception": false,
     "start_time": "2022-11-23T14:54:24.832086",
     "status": "completed"
    },
    "tags": []
   },
   "source": [
    "## Hypothesis Testing\n",
    "\n",
    "### Through EDA, we've learned the following.\n",
    "\n",
    "> #### 1) The age group 30 to 34 are most likely to be converted.\n",
    "> #### 2) The male audience is more likely to be converted.\n",
    "> #### 3) Ads Performance Metrics\n",
    ">> * As for click-through rate, the ads campaign 936 was the highest.\n",
    ">> * As for revenue per mille rate, the ads campaign 936 was also the highest.\n",
    ">> * As for revenue per click rate, the ads campaign 1178 was the highest.\n",
    "\n",
    "\n",
    "\n",
    "#### However, what if this is just random chance?\n",
    "#### For that, let's run hypothesis testing."
   ]
  },
  {
   "cell_type": "markdown",
   "id": "43ddcab1",
   "metadata": {
    "papermill": {
     "duration": 0.023307,
     "end_time": "2022-11-23T14:54:24.902003",
     "exception": false,
     "start_time": "2022-11-23T14:54:24.878696",
     "status": "completed"
    },
    "tags": []
   },
   "source": [
    "### Two Sample T test\n",
    "### 1) get t test statistics\n",
    "#### The hypothesis test for determining if there is a difference between the means of two populations uses \"t\".\n",
    "#### It can be calculated from three values from each sample using this equation.\n",
    "\n",
    "\n",
    "$$t = \\frac{\\bar{x_{male}} - \\bar{x_{female}}}{\\sqrt{\\frac{s_{male}^{2}}{n_{male}}+\\frac{s_{female}^{2}}{n_{female}}}}$$\n",
    "\n",
    "#### 2) calculate the p-value from the t test statistic using t-distribution"
   ]
  },
  {
   "cell_type": "code",
   "execution_count": 39,
   "id": "6cd924e8",
   "metadata": {
    "execution": {
     "iopub.execute_input": "2022-11-23T14:54:24.950669Z",
     "iopub.status.busy": "2022-11-23T14:54:24.950236Z",
     "iopub.status.idle": "2022-11-23T14:54:24.960129Z",
     "shell.execute_reply": "2022-11-23T14:54:24.959327Z"
    },
    "papermill": {
     "duration": 0.036802,
     "end_time": "2022-11-23T14:54:24.962481",
     "exception": false,
     "start_time": "2022-11-23T14:54:24.925679",
     "status": "completed"
    },
    "tags": []
   },
   "outputs": [],
   "source": [
    "# define function to calculate p-value of two sample t test\n",
    "def p_value_two_sample(df, group_by, group_list, target_col):\n",
    "    \n",
    "    target_by = marketing.groupby(group_by).agg({target_col:('mean', 'std', 'count')})\n",
    "    \n",
    "    # save mean value\n",
    "    g1_mean = target_by.loc[group_list[0], target_col]['mean']\n",
    "    g2_mean= target_by.loc[group_list[1], target_col]['mean']\n",
    "    \n",
    "    # save standard deviation value\n",
    "    g1_std = target_by.loc[group_list[0], target_col]['std']\n",
    "    g2_std = target_by.loc[group_list[1], target_col]['std']\n",
    "    \n",
    "    # save count value\n",
    "    g1_count = target_by.loc[group_list[0], target_col]['count']\n",
    "    g2_count= target_by.loc[group_list[1], target_col]['count']\n",
    "    \n",
    "    # obtain t test statistic\n",
    "    numerator = g1_mean - g2_mean\n",
    "    denominator = np.sqrt((g1_std **2 / g2_count) + (g2_std **2 / g2_count))\n",
    "    t_test_statistic = numerator / denominator\n",
    "\n",
    "    degrees_of_freedom = g1_count + g2_count - 2\n",
    "    p_value = 1- t.cdf(t_test_statistic, df = degrees_of_freedom)\n",
    "    \n",
    "    return p_value"
   ]
  },
  {
   "cell_type": "markdown",
   "id": "f3e22384",
   "metadata": {
    "papermill": {
     "duration": 0.023318,
     "end_time": "2022-11-23T14:54:25.009517",
     "exception": false,
     "start_time": "2022-11-23T14:54:24.986199",
     "status": "completed"
    },
    "tags": []
   },
   "source": [
    "### Hypothesis Testing 1. The age group 30 to 34 are most likely to be converted.\n",
    "\n",
    "* Null Hypothesis: There is no difference in conversion rate among the age group.\n",
    "* Alternative Hypothesis: There is difference in conversion rate among the age group."
   ]
  },
  {
   "cell_type": "code",
   "execution_count": 40,
   "id": "445f9e3f",
   "metadata": {
    "execution": {
     "iopub.execute_input": "2022-11-23T14:54:25.059221Z",
     "iopub.status.busy": "2022-11-23T14:54:25.058428Z",
     "iopub.status.idle": "2022-11-23T14:54:25.081864Z",
     "shell.execute_reply": "2022-11-23T14:54:25.080712Z"
    },
    "papermill": {
     "duration": 0.050733,
     "end_time": "2022-11-23T14:54:25.084218",
     "exception": false,
     "start_time": "2022-11-23T14:54:25.033485",
     "status": "completed"
    },
    "tags": []
   },
   "outputs": [
    {
     "data": {
      "text/html": [
       "<div>\n",
       "<style scoped>\n",
       "    .dataframe tbody tr th:only-of-type {\n",
       "        vertical-align: middle;\n",
       "    }\n",
       "\n",
       "    .dataframe tbody tr th {\n",
       "        vertical-align: top;\n",
       "    }\n",
       "\n",
       "    .dataframe thead th {\n",
       "        text-align: right;\n",
       "    }\n",
       "</style>\n",
       "<table border=\"1\" class=\"dataframe\">\n",
       "  <thead>\n",
       "    <tr style=\"text-align: right;\">\n",
       "      <th></th>\n",
       "      <th>ad_id</th>\n",
       "      <th>xyz_campaign_id</th>\n",
       "      <th>fb_campaign_id</th>\n",
       "      <th>age</th>\n",
       "      <th>gender</th>\n",
       "      <th>interest</th>\n",
       "      <th>Impressions</th>\n",
       "      <th>Clicks</th>\n",
       "      <th>Spent</th>\n",
       "      <th>Total_Conversion</th>\n",
       "      <th>Approved_Conversion</th>\n",
       "      <th>total_conversion_rate</th>\n",
       "      <th>approved_conversion_rate</th>\n",
       "    </tr>\n",
       "  </thead>\n",
       "  <tbody>\n",
       "    <tr>\n",
       "      <th>0</th>\n",
       "      <td>708746</td>\n",
       "      <td>916</td>\n",
       "      <td>103916</td>\n",
       "      <td>30-34</td>\n",
       "      <td>M</td>\n",
       "      <td>15</td>\n",
       "      <td>7350</td>\n",
       "      <td>1</td>\n",
       "      <td>1.430000</td>\n",
       "      <td>2</td>\n",
       "      <td>1</td>\n",
       "      <td>0.000272</td>\n",
       "      <td>0.000136</td>\n",
       "    </tr>\n",
       "    <tr>\n",
       "      <th>1</th>\n",
       "      <td>708749</td>\n",
       "      <td>916</td>\n",
       "      <td>103917</td>\n",
       "      <td>30-34</td>\n",
       "      <td>M</td>\n",
       "      <td>16</td>\n",
       "      <td>17861</td>\n",
       "      <td>2</td>\n",
       "      <td>1.820000</td>\n",
       "      <td>2</td>\n",
       "      <td>0</td>\n",
       "      <td>0.000112</td>\n",
       "      <td>0.000000</td>\n",
       "    </tr>\n",
       "    <tr>\n",
       "      <th>2</th>\n",
       "      <td>708771</td>\n",
       "      <td>916</td>\n",
       "      <td>103920</td>\n",
       "      <td>30-34</td>\n",
       "      <td>M</td>\n",
       "      <td>20</td>\n",
       "      <td>693</td>\n",
       "      <td>0</td>\n",
       "      <td>0.000000</td>\n",
       "      <td>1</td>\n",
       "      <td>0</td>\n",
       "      <td>0.001443</td>\n",
       "      <td>0.000000</td>\n",
       "    </tr>\n",
       "    <tr>\n",
       "      <th>3</th>\n",
       "      <td>708815</td>\n",
       "      <td>916</td>\n",
       "      <td>103928</td>\n",
       "      <td>30-34</td>\n",
       "      <td>M</td>\n",
       "      <td>28</td>\n",
       "      <td>4259</td>\n",
       "      <td>1</td>\n",
       "      <td>1.250000</td>\n",
       "      <td>1</td>\n",
       "      <td>0</td>\n",
       "      <td>0.000235</td>\n",
       "      <td>0.000000</td>\n",
       "    </tr>\n",
       "    <tr>\n",
       "      <th>4</th>\n",
       "      <td>708818</td>\n",
       "      <td>916</td>\n",
       "      <td>103928</td>\n",
       "      <td>30-34</td>\n",
       "      <td>M</td>\n",
       "      <td>28</td>\n",
       "      <td>4133</td>\n",
       "      <td>1</td>\n",
       "      <td>1.290000</td>\n",
       "      <td>1</td>\n",
       "      <td>1</td>\n",
       "      <td>0.000242</td>\n",
       "      <td>0.000242</td>\n",
       "    </tr>\n",
       "    <tr>\n",
       "      <th>...</th>\n",
       "      <td>...</td>\n",
       "      <td>...</td>\n",
       "      <td>...</td>\n",
       "      <td>...</td>\n",
       "      <td>...</td>\n",
       "      <td>...</td>\n",
       "      <td>...</td>\n",
       "      <td>...</td>\n",
       "      <td>...</td>\n",
       "      <td>...</td>\n",
       "      <td>...</td>\n",
       "      <td>...</td>\n",
       "      <td>...</td>\n",
       "    </tr>\n",
       "    <tr>\n",
       "      <th>1138</th>\n",
       "      <td>1314410</td>\n",
       "      <td>1178</td>\n",
       "      <td>179977</td>\n",
       "      <td>45-49</td>\n",
       "      <td>F</td>\n",
       "      <td>109</td>\n",
       "      <td>1129773</td>\n",
       "      <td>252</td>\n",
       "      <td>358.189997</td>\n",
       "      <td>13</td>\n",
       "      <td>2</td>\n",
       "      <td>0.000012</td>\n",
       "      <td>0.000002</td>\n",
       "    </tr>\n",
       "    <tr>\n",
       "      <th>1139</th>\n",
       "      <td>1314411</td>\n",
       "      <td>1178</td>\n",
       "      <td>179978</td>\n",
       "      <td>45-49</td>\n",
       "      <td>F</td>\n",
       "      <td>110</td>\n",
       "      <td>637549</td>\n",
       "      <td>120</td>\n",
       "      <td>173.880003</td>\n",
       "      <td>3</td>\n",
       "      <td>0</td>\n",
       "      <td>0.000005</td>\n",
       "      <td>0.000000</td>\n",
       "    </tr>\n",
       "    <tr>\n",
       "      <th>1140</th>\n",
       "      <td>1314412</td>\n",
       "      <td>1178</td>\n",
       "      <td>179979</td>\n",
       "      <td>45-49</td>\n",
       "      <td>F</td>\n",
       "      <td>111</td>\n",
       "      <td>151531</td>\n",
       "      <td>28</td>\n",
       "      <td>40.289999</td>\n",
       "      <td>2</td>\n",
       "      <td>0</td>\n",
       "      <td>0.000013</td>\n",
       "      <td>0.000000</td>\n",
       "    </tr>\n",
       "    <tr>\n",
       "      <th>1141</th>\n",
       "      <td>1314414</td>\n",
       "      <td>1178</td>\n",
       "      <td>179981</td>\n",
       "      <td>45-49</td>\n",
       "      <td>F</td>\n",
       "      <td>113</td>\n",
       "      <td>790253</td>\n",
       "      <td>135</td>\n",
       "      <td>198.710001</td>\n",
       "      <td>8</td>\n",
       "      <td>2</td>\n",
       "      <td>0.000010</td>\n",
       "      <td>0.000003</td>\n",
       "    </tr>\n",
       "    <tr>\n",
       "      <th>1142</th>\n",
       "      <td>1314415</td>\n",
       "      <td>1178</td>\n",
       "      <td>179982</td>\n",
       "      <td>45-49</td>\n",
       "      <td>F</td>\n",
       "      <td>114</td>\n",
       "      <td>513161</td>\n",
       "      <td>114</td>\n",
       "      <td>165.609999</td>\n",
       "      <td>5</td>\n",
       "      <td>2</td>\n",
       "      <td>0.000010</td>\n",
       "      <td>0.000004</td>\n",
       "    </tr>\n",
       "  </tbody>\n",
       "</table>\n",
       "<p>1143 rows × 13 columns</p>\n",
       "</div>"
      ],
      "text/plain": [
       "        ad_id  xyz_campaign_id  fb_campaign_id    age gender  interest  \\\n",
       "0      708746              916          103916  30-34      M        15   \n",
       "1      708749              916          103917  30-34      M        16   \n",
       "2      708771              916          103920  30-34      M        20   \n",
       "3      708815              916          103928  30-34      M        28   \n",
       "4      708818              916          103928  30-34      M        28   \n",
       "...       ...              ...             ...    ...    ...       ...   \n",
       "1138  1314410             1178          179977  45-49      F       109   \n",
       "1139  1314411             1178          179978  45-49      F       110   \n",
       "1140  1314412             1178          179979  45-49      F       111   \n",
       "1141  1314414             1178          179981  45-49      F       113   \n",
       "1142  1314415             1178          179982  45-49      F       114   \n",
       "\n",
       "      Impressions  Clicks       Spent  Total_Conversion  Approved_Conversion  \\\n",
       "0            7350       1    1.430000                 2                    1   \n",
       "1           17861       2    1.820000                 2                    0   \n",
       "2             693       0    0.000000                 1                    0   \n",
       "3            4259       1    1.250000                 1                    0   \n",
       "4            4133       1    1.290000                 1                    1   \n",
       "...           ...     ...         ...               ...                  ...   \n",
       "1138      1129773     252  358.189997                13                    2   \n",
       "1139       637549     120  173.880003                 3                    0   \n",
       "1140       151531      28   40.289999                 2                    0   \n",
       "1141       790253     135  198.710001                 8                    2   \n",
       "1142       513161     114  165.609999                 5                    2   \n",
       "\n",
       "      total_conversion_rate  approved_conversion_rate  \n",
       "0                  0.000272                  0.000136  \n",
       "1                  0.000112                  0.000000  \n",
       "2                  0.001443                  0.000000  \n",
       "3                  0.000235                  0.000000  \n",
       "4                  0.000242                  0.000242  \n",
       "...                     ...                       ...  \n",
       "1138               0.000012                  0.000002  \n",
       "1139               0.000005                  0.000000  \n",
       "1140               0.000013                  0.000000  \n",
       "1141               0.000010                  0.000003  \n",
       "1142               0.000010                  0.000004  \n",
       "\n",
       "[1143 rows x 13 columns]"
      ]
     },
     "execution_count": 40,
     "metadata": {},
     "output_type": "execute_result"
    }
   ],
   "source": [
    "# add column for conversion rate of each row\n",
    "marketing['total_conversion_rate'] = marketing['Total_Conversion'] / marketing['Impressions']\n",
    "marketing['approved_conversion_rate'] = marketing['Approved_Conversion'] / marketing['Impressions']\n",
    "marketing"
   ]
  },
  {
   "cell_type": "code",
   "execution_count": 41,
   "id": "91f4e2df",
   "metadata": {
    "execution": {
     "iopub.execute_input": "2022-11-23T14:54:25.134531Z",
     "iopub.status.busy": "2022-11-23T14:54:25.134105Z",
     "iopub.status.idle": "2022-11-23T14:54:25.192326Z",
     "shell.execute_reply": "2022-11-23T14:54:25.191497Z"
    },
    "papermill": {
     "duration": 0.0863,
     "end_time": "2022-11-23T14:54:25.194716",
     "exception": false,
     "start_time": "2022-11-23T14:54:25.108416",
     "status": "completed"
    },
    "tags": []
   },
   "outputs": [
    {
     "data": {
      "text/html": [
       "<div>\n",
       "<style scoped>\n",
       "    .dataframe tbody tr th:only-of-type {\n",
       "        vertical-align: middle;\n",
       "    }\n",
       "\n",
       "    .dataframe tbody tr th {\n",
       "        vertical-align: top;\n",
       "    }\n",
       "\n",
       "    .dataframe thead th {\n",
       "        text-align: right;\n",
       "    }\n",
       "</style>\n",
       "<table border=\"1\" class=\"dataframe\">\n",
       "  <thead>\n",
       "    <tr style=\"text-align: right;\">\n",
       "      <th></th>\n",
       "      <th>Contrast</th>\n",
       "      <th>A</th>\n",
       "      <th>B</th>\n",
       "      <th>Paired</th>\n",
       "      <th>Parametric</th>\n",
       "      <th>T</th>\n",
       "      <th>dof</th>\n",
       "      <th>alternative</th>\n",
       "      <th>p-unc</th>\n",
       "      <th>p-corr</th>\n",
       "      <th>p-adjust</th>\n",
       "      <th>BF10</th>\n",
       "      <th>hedges</th>\n",
       "    </tr>\n",
       "  </thead>\n",
       "  <tbody>\n",
       "    <tr>\n",
       "      <th>0</th>\n",
       "      <td>age</td>\n",
       "      <td>30-34</td>\n",
       "      <td>35-39</td>\n",
       "      <td>False</td>\n",
       "      <td>True</td>\n",
       "      <td>3.021575</td>\n",
       "      <td>671.908818</td>\n",
       "      <td>two-sided</td>\n",
       "      <td>0.002610</td>\n",
       "      <td>0.015661</td>\n",
       "      <td>bonf</td>\n",
       "      <td>7.52</td>\n",
       "      <td>0.210853</td>\n",
       "    </tr>\n",
       "    <tr>\n",
       "      <th>1</th>\n",
       "      <td>age</td>\n",
       "      <td>30-34</td>\n",
       "      <td>40-44</td>\n",
       "      <td>False</td>\n",
       "      <td>True</td>\n",
       "      <td>1.705631</td>\n",
       "      <td>382.751247</td>\n",
       "      <td>two-sided</td>\n",
       "      <td>0.088888</td>\n",
       "      <td>0.533329</td>\n",
       "      <td>bonf</td>\n",
       "      <td>0.387</td>\n",
       "      <td>0.148363</td>\n",
       "    </tr>\n",
       "    <tr>\n",
       "      <th>2</th>\n",
       "      <td>age</td>\n",
       "      <td>30-34</td>\n",
       "      <td>45-49</td>\n",
       "      <td>False</td>\n",
       "      <td>True</td>\n",
       "      <td>2.601723</td>\n",
       "      <td>668.806035</td>\n",
       "      <td>two-sided</td>\n",
       "      <td>0.009481</td>\n",
       "      <td>0.056886</td>\n",
       "      <td>bonf</td>\n",
       "      <td>2.373</td>\n",
       "      <td>0.188496</td>\n",
       "    </tr>\n",
       "    <tr>\n",
       "      <th>3</th>\n",
       "      <td>age</td>\n",
       "      <td>35-39</td>\n",
       "      <td>40-44</td>\n",
       "      <td>False</td>\n",
       "      <td>True</td>\n",
       "      <td>-0.352412</td>\n",
       "      <td>303.071246</td>\n",
       "      <td>two-sided</td>\n",
       "      <td>0.724774</td>\n",
       "      <td>1.000000</td>\n",
       "      <td>bonf</td>\n",
       "      <td>0.111</td>\n",
       "      <td>-0.034600</td>\n",
       "    </tr>\n",
       "    <tr>\n",
       "      <th>4</th>\n",
       "      <td>age</td>\n",
       "      <td>35-39</td>\n",
       "      <td>45-49</td>\n",
       "      <td>False</td>\n",
       "      <td>True</td>\n",
       "      <td>-0.238110</td>\n",
       "      <td>492.973590</td>\n",
       "      <td>two-sided</td>\n",
       "      <td>0.811895</td>\n",
       "      <td>1.000000</td>\n",
       "      <td>bonf</td>\n",
       "      <td>0.102</td>\n",
       "      <td>-0.021032</td>\n",
       "    </tr>\n",
       "    <tr>\n",
       "      <th>5</th>\n",
       "      <td>age</td>\n",
       "      <td>40-44</td>\n",
       "      <td>45-49</td>\n",
       "      <td>False</td>\n",
       "      <td>True</td>\n",
       "      <td>0.184158</td>\n",
       "      <td>340.129632</td>\n",
       "      <td>two-sided</td>\n",
       "      <td>0.854000</td>\n",
       "      <td>1.000000</td>\n",
       "      <td>bonf</td>\n",
       "      <td>0.105</td>\n",
       "      <td>0.017841</td>\n",
       "    </tr>\n",
       "  </tbody>\n",
       "</table>\n",
       "</div>"
      ],
      "text/plain": [
       "  Contrast      A      B  Paired  Parametric         T         dof  \\\n",
       "0      age  30-34  35-39   False        True  3.021575  671.908818   \n",
       "1      age  30-34  40-44   False        True  1.705631  382.751247   \n",
       "2      age  30-34  45-49   False        True  2.601723  668.806035   \n",
       "3      age  35-39  40-44   False        True -0.352412  303.071246   \n",
       "4      age  35-39  45-49   False        True -0.238110  492.973590   \n",
       "5      age  40-44  45-49   False        True  0.184158  340.129632   \n",
       "\n",
       "  alternative     p-unc    p-corr p-adjust   BF10    hedges  \n",
       "0   two-sided  0.002610  0.015661     bonf   7.52  0.210853  \n",
       "1   two-sided  0.088888  0.533329     bonf  0.387  0.148363  \n",
       "2   two-sided  0.009481  0.056886     bonf  2.373  0.188496  \n",
       "3   two-sided  0.724774  1.000000     bonf  0.111 -0.034600  \n",
       "4   two-sided  0.811895  1.000000     bonf  0.102 -0.021032  \n",
       "5   two-sided  0.854000  1.000000     bonf  0.105  0.017841  "
      ]
     },
     "execution_count": 41,
     "metadata": {},
     "output_type": "execute_result"
    }
   ],
   "source": [
    "pingouin.pairwise_tests(data = marketing, dv= 'total_conversion_rate', between = 'age', padjust = 'bonf')"
   ]
  },
  {
   "cell_type": "markdown",
   "id": "873b9caa",
   "metadata": {
    "papermill": {
     "duration": 0.024358,
     "end_time": "2022-11-23T14:54:25.245619",
     "exception": false,
     "start_time": "2022-11-23T14:54:25.221261",
     "status": "completed"
    },
    "tags": []
   },
   "source": [
    "#### Check the column, 'p-corr'.\n",
    "#### When we apply standard significance level, 0.05, the difference between age group 30 to 34 and 35 to 39 was statistically significant."
   ]
  },
  {
   "cell_type": "code",
   "execution_count": 42,
   "id": "be407cf9",
   "metadata": {
    "execution": {
     "iopub.execute_input": "2022-11-23T14:54:25.296574Z",
     "iopub.status.busy": "2022-11-23T14:54:25.295409Z",
     "iopub.status.idle": "2022-11-23T14:54:25.353005Z",
     "shell.execute_reply": "2022-11-23T14:54:25.351858Z"
    },
    "papermill": {
     "duration": 0.085382,
     "end_time": "2022-11-23T14:54:25.355214",
     "exception": false,
     "start_time": "2022-11-23T14:54:25.269832",
     "status": "completed"
    },
    "tags": []
   },
   "outputs": [
    {
     "data": {
      "text/html": [
       "<div>\n",
       "<style scoped>\n",
       "    .dataframe tbody tr th:only-of-type {\n",
       "        vertical-align: middle;\n",
       "    }\n",
       "\n",
       "    .dataframe tbody tr th {\n",
       "        vertical-align: top;\n",
       "    }\n",
       "\n",
       "    .dataframe thead th {\n",
       "        text-align: right;\n",
       "    }\n",
       "</style>\n",
       "<table border=\"1\" class=\"dataframe\">\n",
       "  <thead>\n",
       "    <tr style=\"text-align: right;\">\n",
       "      <th></th>\n",
       "      <th>Contrast</th>\n",
       "      <th>A</th>\n",
       "      <th>B</th>\n",
       "      <th>Paired</th>\n",
       "      <th>Parametric</th>\n",
       "      <th>T</th>\n",
       "      <th>dof</th>\n",
       "      <th>alternative</th>\n",
       "      <th>p-unc</th>\n",
       "      <th>p-corr</th>\n",
       "      <th>p-adjust</th>\n",
       "      <th>BF10</th>\n",
       "      <th>hedges</th>\n",
       "    </tr>\n",
       "  </thead>\n",
       "  <tbody>\n",
       "    <tr>\n",
       "      <th>0</th>\n",
       "      <td>age</td>\n",
       "      <td>30-34</td>\n",
       "      <td>35-39</td>\n",
       "      <td>False</td>\n",
       "      <td>True</td>\n",
       "      <td>2.854662</td>\n",
       "      <td>543.434406</td>\n",
       "      <td>two-sided</td>\n",
       "      <td>0.004473</td>\n",
       "      <td>0.026837</td>\n",
       "      <td>bonf</td>\n",
       "      <td>4.681</td>\n",
       "      <td>0.181914</td>\n",
       "    </tr>\n",
       "    <tr>\n",
       "      <th>1</th>\n",
       "      <td>age</td>\n",
       "      <td>30-34</td>\n",
       "      <td>40-44</td>\n",
       "      <td>False</td>\n",
       "      <td>True</td>\n",
       "      <td>0.598696</td>\n",
       "      <td>346.160141</td>\n",
       "      <td>two-sided</td>\n",
       "      <td>0.549767</td>\n",
       "      <td>1.000000</td>\n",
       "      <td>bonf</td>\n",
       "      <td>0.112</td>\n",
       "      <td>0.054248</td>\n",
       "    </tr>\n",
       "    <tr>\n",
       "      <th>2</th>\n",
       "      <td>age</td>\n",
       "      <td>30-34</td>\n",
       "      <td>45-49</td>\n",
       "      <td>False</td>\n",
       "      <td>True</td>\n",
       "      <td>2.589635</td>\n",
       "      <td>611.167497</td>\n",
       "      <td>two-sided</td>\n",
       "      <td>0.009837</td>\n",
       "      <td>0.059020</td>\n",
       "      <td>bonf</td>\n",
       "      <td>2.302</td>\n",
       "      <td>0.170678</td>\n",
       "    </tr>\n",
       "    <tr>\n",
       "      <th>3</th>\n",
       "      <td>age</td>\n",
       "      <td>35-39</td>\n",
       "      <td>40-44</td>\n",
       "      <td>False</td>\n",
       "      <td>True</td>\n",
       "      <td>-1.018711</td>\n",
       "      <td>229.480714</td>\n",
       "      <td>two-sided</td>\n",
       "      <td>0.309413</td>\n",
       "      <td>1.000000</td>\n",
       "      <td>bonf</td>\n",
       "      <td>0.172</td>\n",
       "      <td>-0.102722</td>\n",
       "    </tr>\n",
       "    <tr>\n",
       "      <th>4</th>\n",
       "      <td>age</td>\n",
       "      <td>35-39</td>\n",
       "      <td>45-49</td>\n",
       "      <td>False</td>\n",
       "      <td>True</td>\n",
       "      <td>-0.230201</td>\n",
       "      <td>475.179288</td>\n",
       "      <td>two-sided</td>\n",
       "      <td>0.818034</td>\n",
       "      <td>1.000000</td>\n",
       "      <td>bonf</td>\n",
       "      <td>0.101</td>\n",
       "      <td>-0.020292</td>\n",
       "    </tr>\n",
       "    <tr>\n",
       "      <th>5</th>\n",
       "      <td>age</td>\n",
       "      <td>40-44</td>\n",
       "      <td>45-49</td>\n",
       "      <td>False</td>\n",
       "      <td>True</td>\n",
       "      <td>0.920386</td>\n",
       "      <td>244.819275</td>\n",
       "      <td>two-sided</td>\n",
       "      <td>0.358277</td>\n",
       "      <td>1.000000</td>\n",
       "      <td>bonf</td>\n",
       "      <td>0.155</td>\n",
       "      <td>0.092894</td>\n",
       "    </tr>\n",
       "  </tbody>\n",
       "</table>\n",
       "</div>"
      ],
      "text/plain": [
       "  Contrast      A      B  Paired  Parametric         T         dof  \\\n",
       "0      age  30-34  35-39   False        True  2.854662  543.434406   \n",
       "1      age  30-34  40-44   False        True  0.598696  346.160141   \n",
       "2      age  30-34  45-49   False        True  2.589635  611.167497   \n",
       "3      age  35-39  40-44   False        True -1.018711  229.480714   \n",
       "4      age  35-39  45-49   False        True -0.230201  475.179288   \n",
       "5      age  40-44  45-49   False        True  0.920386  244.819275   \n",
       "\n",
       "  alternative     p-unc    p-corr p-adjust   BF10    hedges  \n",
       "0   two-sided  0.004473  0.026837     bonf  4.681  0.181914  \n",
       "1   two-sided  0.549767  1.000000     bonf  0.112  0.054248  \n",
       "2   two-sided  0.009837  0.059020     bonf  2.302  0.170678  \n",
       "3   two-sided  0.309413  1.000000     bonf  0.172 -0.102722  \n",
       "4   two-sided  0.818034  1.000000     bonf  0.101 -0.020292  \n",
       "5   two-sided  0.358277  1.000000     bonf  0.155  0.092894  "
      ]
     },
     "execution_count": 42,
     "metadata": {},
     "output_type": "execute_result"
    }
   ],
   "source": [
    "pingouin.pairwise_tests(data = marketing, dv= 'approved_conversion_rate', between = 'age', padjust = 'bonf')"
   ]
  },
  {
   "cell_type": "code",
   "execution_count": 43,
   "id": "cf8b74d2",
   "metadata": {
    "execution": {
     "iopub.execute_input": "2022-11-23T14:54:25.406363Z",
     "iopub.status.busy": "2022-11-23T14:54:25.405936Z",
     "iopub.status.idle": "2022-11-23T14:54:25.434642Z",
     "shell.execute_reply": "2022-11-23T14:54:25.433170Z"
    },
    "papermill": {
     "duration": 0.05741,
     "end_time": "2022-11-23T14:54:25.437206",
     "exception": false,
     "start_time": "2022-11-23T14:54:25.379796",
     "status": "completed"
    },
    "tags": []
   },
   "outputs": [
    {
     "name": "stdout",
     "output_type": "stream",
     "text": [
      "P value (Total conversion rate)\n",
      "\n",
      "age group 30-34 > 35-39: 0.006285566730726\n",
      "Very Likely\n",
      "\n",
      "age group 30-34 > 40-44: 0.0674152368313301\n",
      "Very Unlikely\n",
      "\n",
      "age group 30-34 > 45-49: 0.01288612742426365\n",
      "Very Likely\n",
      "\n"
     ]
    }
   ],
   "source": [
    "print('P value (Total conversion rate)\\n')\n",
    "for b in ['35-39', '40-44', '45-49']:\n",
    "    p = p_value_two_sample(marketing, 'age', ['30-34', b], 'total_conversion_rate')\n",
    "    \n",
    "    print(f'age group 30-34 > {b}: {p}')\n",
    "    \n",
    "    if p < 0.05:\n",
    "        print('Very Likely\\n')\n",
    "    else:\n",
    "        print('Very Unlikely\\n')"
   ]
  },
  {
   "cell_type": "code",
   "execution_count": 44,
   "id": "a6574fb9",
   "metadata": {
    "execution": {
     "iopub.execute_input": "2022-11-23T14:54:25.488840Z",
     "iopub.status.busy": "2022-11-23T14:54:25.488452Z",
     "iopub.status.idle": "2022-11-23T14:54:25.513404Z",
     "shell.execute_reply": "2022-11-23T14:54:25.512225Z"
    },
    "papermill": {
     "duration": 0.053709,
     "end_time": "2022-11-23T14:54:25.515925",
     "exception": false,
     "start_time": "2022-11-23T14:54:25.462216",
     "status": "completed"
    },
    "tags": []
   },
   "outputs": [
    {
     "name": "stdout",
     "output_type": "stream",
     "text": [
      "P value (Approved conversion rate)\n",
      "\n",
      "approved conversion rate 30-34 > 35-39: 0.012666811376693454\n",
      "Very Likely\n",
      "\n",
      "approved conversion rate 30-34 > 40-44: 0.29614504698899946\n",
      "Very Unlikely\n",
      "\n",
      "approved conversion rate 30-34 > 45-49: 0.017674069287912264\n",
      "Very Likely\n",
      "\n"
     ]
    }
   ],
   "source": [
    "print('P value (Approved conversion rate)\\n')\n",
    "for b in ['35-39', '40-44', '45-49']:\n",
    "    p = p_value_two_sample(marketing, 'age', ['30-34', b], 'approved_conversion_rate')\n",
    "    print(f'approved conversion rate 30-34 > {b}: {p}')\n",
    "    \n",
    "    if p < 0.05:\n",
    "        print('Very Likely\\n')\n",
    "    else:\n",
    "        print('Very Unlikely\\n')"
   ]
  },
  {
   "cell_type": "markdown",
   "id": "2fb5f35a",
   "metadata": {
    "papermill": {
     "duration": 0.024092,
     "end_time": "2022-11-23T14:54:25.565657",
     "exception": false,
     "start_time": "2022-11-23T14:54:25.541565",
     "status": "completed"
    },
    "tags": []
   },
   "source": [
    "### Hypothesis Testing 2. The male audience is most likely to be converted.\n",
    "\n",
    "* Null Hypothesis: The conversion rate of male audience is the same as that of female.\n",
    "* Alternative Hypothesis: The conversion rate of male audience is higher than that of female."
   ]
  },
  {
   "cell_type": "code",
   "execution_count": 45,
   "id": "0c8f936a",
   "metadata": {
    "execution": {
     "iopub.execute_input": "2022-11-23T14:54:25.616511Z",
     "iopub.status.busy": "2022-11-23T14:54:25.616098Z",
     "iopub.status.idle": "2022-11-23T14:54:25.628741Z",
     "shell.execute_reply": "2022-11-23T14:54:25.627529Z"
    },
    "papermill": {
     "duration": 0.041028,
     "end_time": "2022-11-23T14:54:25.630967",
     "exception": false,
     "start_time": "2022-11-23T14:54:25.589939",
     "status": "completed"
    },
    "tags": []
   },
   "outputs": [
    {
     "name": "stdout",
     "output_type": "stream",
     "text": [
      "Total conversion rate Male > Female\n",
      "Very Unlikely\n",
      "\n"
     ]
    }
   ],
   "source": [
    "print('Total conversion rate Male > Female')\n",
    "p = p_value_two_sample(marketing, 'gender', ['M', 'F'], 'total_conversion_rate')\n",
    "if p < 0.05:\n",
    "    print('Very Likely\\n')\n",
    "else:\n",
    "    print('Very Unlikely\\n')"
   ]
  },
  {
   "cell_type": "code",
   "execution_count": 46,
   "id": "1ed6d330",
   "metadata": {
    "execution": {
     "iopub.execute_input": "2022-11-23T14:54:25.681880Z",
     "iopub.status.busy": "2022-11-23T14:54:25.680705Z",
     "iopub.status.idle": "2022-11-23T14:54:25.694190Z",
     "shell.execute_reply": "2022-11-23T14:54:25.692999Z"
    },
    "papermill": {
     "duration": 0.041266,
     "end_time": "2022-11-23T14:54:25.696552",
     "exception": false,
     "start_time": "2022-11-23T14:54:25.655286",
     "status": "completed"
    },
    "tags": []
   },
   "outputs": [
    {
     "name": "stdout",
     "output_type": "stream",
     "text": [
      "Approved conversion rate Male > Female\n",
      "Very Unlikely\n",
      "\n"
     ]
    }
   ],
   "source": [
    "print('Approved conversion rate Male > Female')\n",
    "p = p_value_two_sample(marketing, 'gender', ['M', 'F'], 'approved_conversion_rate')\n",
    "if p < 0.05:\n",
    "    print('Very Likely\\n')\n",
    "else:\n",
    "    print('Very Unlikely\\n')"
   ]
  },
  {
   "cell_type": "markdown",
   "id": "63114383",
   "metadata": {
    "papermill": {
     "duration": 0.025198,
     "end_time": "2022-11-23T14:54:25.746415",
     "exception": false,
     "start_time": "2022-11-23T14:54:25.721217",
     "status": "completed"
    },
    "tags": []
   },
   "source": [
    "#### P value is higher than significance level, 0.05, so the testing failed to reject null hypothesis.\n",
    "#### It apprears the conversion rate of male audience isn't different from that of female."
   ]
  },
  {
   "cell_type": "markdown",
   "id": "7ebcfa41",
   "metadata": {
    "papermill": {
     "duration": 0.024483,
     "end_time": "2022-11-23T14:54:25.796058",
     "exception": false,
     "start_time": "2022-11-23T14:54:25.771575",
     "status": "completed"
    },
    "tags": []
   },
   "source": [
    "### Hypothesis Testing 3. Ads Performance Metrics\n",
    "\n",
    "We will test the followings.\n",
    "* As for click-through rate, the ads campaign 936 was the highest.\n",
    "* As for revenue per mille rate, the ads campaign 936 was also the highest.\n",
    "* As for revenue per click rate, the ads campaign 1178 was the highest."
   ]
  },
  {
   "cell_type": "code",
   "execution_count": 47,
   "id": "1745fc2b",
   "metadata": {
    "execution": {
     "iopub.execute_input": "2022-11-23T14:54:25.846965Z",
     "iopub.status.busy": "2022-11-23T14:54:25.846536Z",
     "iopub.status.idle": "2022-11-23T14:54:25.856946Z",
     "shell.execute_reply": "2022-11-23T14:54:25.856103Z"
    },
    "papermill": {
     "duration": 0.038309,
     "end_time": "2022-11-23T14:54:25.858963",
     "exception": false,
     "start_time": "2022-11-23T14:54:25.820654",
     "status": "completed"
    },
    "tags": []
   },
   "outputs": [],
   "source": [
    "# add columns of online ads metrics\n",
    "\n",
    "# CTR (Click Through Rate)\n",
    "marketing['ctr'] = marketing['Clicks'] / marketing['Impressions'] \n",
    "\n",
    "# RPM (Revenue Per Mille) \n",
    "# Mille here indicates 1,000 impressions\n",
    "marketing['rpm']= marketing['Spent'] / marketing['Impressions'] /1000 \n",
    "\n",
    "# RPC (Revenue Per Click)\n",
    "marketing['rpc']= marketing['Spent'] / marketing['Clicks'] "
   ]
  },
  {
   "cell_type": "code",
   "execution_count": 48,
   "id": "e08b6ca0",
   "metadata": {
    "execution": {
     "iopub.execute_input": "2022-11-23T14:54:25.910006Z",
     "iopub.status.busy": "2022-11-23T14:54:25.909581Z",
     "iopub.status.idle": "2022-11-23T14:54:25.953058Z",
     "shell.execute_reply": "2022-11-23T14:54:25.951975Z"
    },
    "papermill": {
     "duration": 0.071822,
     "end_time": "2022-11-23T14:54:25.955510",
     "exception": false,
     "start_time": "2022-11-23T14:54:25.883688",
     "status": "completed"
    },
    "tags": []
   },
   "outputs": [
    {
     "data": {
      "text/html": [
       "<div>\n",
       "<style scoped>\n",
       "    .dataframe tbody tr th:only-of-type {\n",
       "        vertical-align: middle;\n",
       "    }\n",
       "\n",
       "    .dataframe tbody tr th {\n",
       "        vertical-align: top;\n",
       "    }\n",
       "\n",
       "    .dataframe thead th {\n",
       "        text-align: right;\n",
       "    }\n",
       "</style>\n",
       "<table border=\"1\" class=\"dataframe\">\n",
       "  <thead>\n",
       "    <tr style=\"text-align: right;\">\n",
       "      <th></th>\n",
       "      <th>Contrast</th>\n",
       "      <th>A</th>\n",
       "      <th>B</th>\n",
       "      <th>Paired</th>\n",
       "      <th>Parametric</th>\n",
       "      <th>T</th>\n",
       "      <th>dof</th>\n",
       "      <th>alternative</th>\n",
       "      <th>p-unc</th>\n",
       "      <th>p-corr</th>\n",
       "      <th>p-adjust</th>\n",
       "      <th>BF10</th>\n",
       "      <th>hedges</th>\n",
       "    </tr>\n",
       "  </thead>\n",
       "  <tbody>\n",
       "    <tr>\n",
       "      <th>0</th>\n",
       "      <td>xyz_campaign_id</td>\n",
       "      <td>916</td>\n",
       "      <td>936</td>\n",
       "      <td>False</td>\n",
       "      <td>True</td>\n",
       "      <td>0.665441</td>\n",
       "      <td>65.735079</td>\n",
       "      <td>two-sided</td>\n",
       "      <td>0.508096</td>\n",
       "      <td>1.0</td>\n",
       "      <td>bonf</td>\n",
       "      <td>0.192</td>\n",
       "      <td>0.096154</td>\n",
       "    </tr>\n",
       "    <tr>\n",
       "      <th>1</th>\n",
       "      <td>xyz_campaign_id</td>\n",
       "      <td>916</td>\n",
       "      <td>1178</td>\n",
       "      <td>False</td>\n",
       "      <td>True</td>\n",
       "      <td>0.827309</td>\n",
       "      <td>54.390038</td>\n",
       "      <td>two-sided</td>\n",
       "      <td>0.411677</td>\n",
       "      <td>1.0</td>\n",
       "      <td>bonf</td>\n",
       "      <td>0.212</td>\n",
       "      <td>0.242782</td>\n",
       "    </tr>\n",
       "    <tr>\n",
       "      <th>2</th>\n",
       "      <td>xyz_campaign_id</td>\n",
       "      <td>936</td>\n",
       "      <td>1178</td>\n",
       "      <td>False</td>\n",
       "      <td>True</td>\n",
       "      <td>0.364482</td>\n",
       "      <td>568.941005</td>\n",
       "      <td>two-sided</td>\n",
       "      <td>0.715634</td>\n",
       "      <td>1.0</td>\n",
       "      <td>bonf</td>\n",
       "      <td>0.073</td>\n",
       "      <td>0.024892</td>\n",
       "    </tr>\n",
       "  </tbody>\n",
       "</table>\n",
       "</div>"
      ],
      "text/plain": [
       "          Contrast    A     B  Paired  Parametric         T         dof  \\\n",
       "0  xyz_campaign_id  916   936   False        True  0.665441   65.735079   \n",
       "1  xyz_campaign_id  916  1178   False        True  0.827309   54.390038   \n",
       "2  xyz_campaign_id  936  1178   False        True  0.364482  568.941005   \n",
       "\n",
       "  alternative     p-unc  p-corr p-adjust   BF10    hedges  \n",
       "0   two-sided  0.508096     1.0     bonf  0.192  0.096154  \n",
       "1   two-sided  0.411677     1.0     bonf  0.212  0.242782  \n",
       "2   two-sided  0.715634     1.0     bonf  0.073  0.024892  "
      ]
     },
     "execution_count": 48,
     "metadata": {},
     "output_type": "execute_result"
    }
   ],
   "source": [
    "pingouin.pairwise_tests(data = marketing, dv= 'ctr', between = 'xyz_campaign_id', padjust = 'bonf')"
   ]
  },
  {
   "cell_type": "markdown",
   "id": "4e4d2454",
   "metadata": {
    "papermill": {
     "duration": 0.024944,
     "end_time": "2022-11-23T14:54:26.005947",
     "exception": false,
     "start_time": "2022-11-23T14:54:25.981003",
     "status": "completed"
    },
    "tags": []
   },
   "source": [
    "#### It appears that the difference among three campaigns's click-through rate isn't statistically significant."
   ]
  },
  {
   "cell_type": "code",
   "execution_count": 49,
   "id": "7e870ace",
   "metadata": {
    "execution": {
     "iopub.execute_input": "2022-11-23T14:54:26.058564Z",
     "iopub.status.busy": "2022-11-23T14:54:26.058125Z",
     "iopub.status.idle": "2022-11-23T14:54:26.102773Z",
     "shell.execute_reply": "2022-11-23T14:54:26.101689Z"
    },
    "papermill": {
     "duration": 0.073774,
     "end_time": "2022-11-23T14:54:26.104988",
     "exception": false,
     "start_time": "2022-11-23T14:54:26.031214",
     "status": "completed"
    },
    "tags": []
   },
   "outputs": [
    {
     "data": {
      "text/html": [
       "<div>\n",
       "<style scoped>\n",
       "    .dataframe tbody tr th:only-of-type {\n",
       "        vertical-align: middle;\n",
       "    }\n",
       "\n",
       "    .dataframe tbody tr th {\n",
       "        vertical-align: top;\n",
       "    }\n",
       "\n",
       "    .dataframe thead th {\n",
       "        text-align: right;\n",
       "    }\n",
       "</style>\n",
       "<table border=\"1\" class=\"dataframe\">\n",
       "  <thead>\n",
       "    <tr style=\"text-align: right;\">\n",
       "      <th></th>\n",
       "      <th>Contrast</th>\n",
       "      <th>A</th>\n",
       "      <th>B</th>\n",
       "      <th>Paired</th>\n",
       "      <th>Parametric</th>\n",
       "      <th>T</th>\n",
       "      <th>dof</th>\n",
       "      <th>alternative</th>\n",
       "      <th>p-unc</th>\n",
       "      <th>p-corr</th>\n",
       "      <th>p-adjust</th>\n",
       "      <th>BF10</th>\n",
       "      <th>hedges</th>\n",
       "    </tr>\n",
       "  </thead>\n",
       "  <tbody>\n",
       "    <tr>\n",
       "      <th>0</th>\n",
       "      <td>xyz_campaign_id</td>\n",
       "      <td>916</td>\n",
       "      <td>936</td>\n",
       "      <td>False</td>\n",
       "      <td>True</td>\n",
       "      <td>0.523736</td>\n",
       "      <td>65.787691</td>\n",
       "      <td>two-sided</td>\n",
       "      <td>0.602222</td>\n",
       "      <td>1.000000</td>\n",
       "      <td>bonf</td>\n",
       "      <td>0.178</td>\n",
       "      <td>0.075560</td>\n",
       "    </tr>\n",
       "    <tr>\n",
       "      <th>1</th>\n",
       "      <td>xyz_campaign_id</td>\n",
       "      <td>916</td>\n",
       "      <td>1178</td>\n",
       "      <td>False</td>\n",
       "      <td>True</td>\n",
       "      <td>-0.322435</td>\n",
       "      <td>54.351497</td>\n",
       "      <td>two-sided</td>\n",
       "      <td>0.748361</td>\n",
       "      <td>1.000000</td>\n",
       "      <td>bonf</td>\n",
       "      <td>0.162</td>\n",
       "      <td>-0.095451</td>\n",
       "    </tr>\n",
       "    <tr>\n",
       "      <th>2</th>\n",
       "      <td>xyz_campaign_id</td>\n",
       "      <td>936</td>\n",
       "      <td>1178</td>\n",
       "      <td>False</td>\n",
       "      <td>True</td>\n",
       "      <td>-2.456080</td>\n",
       "      <td>565.628679</td>\n",
       "      <td>two-sided</td>\n",
       "      <td>0.014346</td>\n",
       "      <td>0.043037</td>\n",
       "      <td>bonf</td>\n",
       "      <td>1.335</td>\n",
       "      <td>-0.167919</td>\n",
       "    </tr>\n",
       "  </tbody>\n",
       "</table>\n",
       "</div>"
      ],
      "text/plain": [
       "          Contrast    A     B  Paired  Parametric         T         dof  \\\n",
       "0  xyz_campaign_id  916   936   False        True  0.523736   65.787691   \n",
       "1  xyz_campaign_id  916  1178   False        True -0.322435   54.351497   \n",
       "2  xyz_campaign_id  936  1178   False        True -2.456080  565.628679   \n",
       "\n",
       "  alternative     p-unc    p-corr p-adjust   BF10    hedges  \n",
       "0   two-sided  0.602222  1.000000     bonf  0.178  0.075560  \n",
       "1   two-sided  0.748361  1.000000     bonf  0.162 -0.095451  \n",
       "2   two-sided  0.014346  0.043037     bonf  1.335 -0.167919  "
      ]
     },
     "execution_count": 49,
     "metadata": {},
     "output_type": "execute_result"
    }
   ],
   "source": [
    "pingouin.pairwise_tests(data = marketing, dv= 'rpm', between = 'xyz_campaign_id', padjust = 'bonf')"
   ]
  },
  {
   "cell_type": "markdown",
   "id": "a722a50a",
   "metadata": {
    "papermill": {
     "duration": 0.024936,
     "end_time": "2022-11-23T14:54:26.155415",
     "exception": false,
     "start_time": "2022-11-23T14:54:26.130479",
     "status": "completed"
    },
    "tags": []
   },
   "source": [
    "#### It appears that the difference in revenue per 1000 impressions between campaign 936 and 1178 is statistically significant.\n",
    "\n",
    "#### Through two sample t-test, let's see if that hold true and which ad campaign outperformed in RPM."
   ]
  },
  {
   "cell_type": "code",
   "execution_count": 50,
   "id": "98bc7e30",
   "metadata": {
    "execution": {
     "iopub.execute_input": "2022-11-23T14:54:26.208365Z",
     "iopub.status.busy": "2022-11-23T14:54:26.207966Z",
     "iopub.status.idle": "2022-11-23T14:54:26.221355Z",
     "shell.execute_reply": "2022-11-23T14:54:26.220208Z"
    },
    "papermill": {
     "duration": 0.042642,
     "end_time": "2022-11-23T14:54:26.223697",
     "exception": false,
     "start_time": "2022-11-23T14:54:26.181055",
     "status": "completed"
    },
    "tags": []
   },
   "outputs": [
    {
     "name": "stdout",
     "output_type": "stream",
     "text": [
      "Revenue Per 1,000 impressions: campaign ID 936 > 1178\n",
      "Very Unlikely\n",
      "\n"
     ]
    }
   ],
   "source": [
    "print('Revenue Per 1,000 impressions: campaign ID 936 > 1178')\n",
    "p = p_value_two_sample(marketing, 'xyz_campaign_id', [936, 1178], 'rpm')\n",
    "if p < 0.05:\n",
    "    print('Very Likely\\n')\n",
    "else:\n",
    "    print('Very Unlikely\\n')"
   ]
  },
  {
   "cell_type": "code",
   "execution_count": 51,
   "id": "1ee0d79c",
   "metadata": {
    "execution": {
     "iopub.execute_input": "2022-11-23T14:54:26.277522Z",
     "iopub.status.busy": "2022-11-23T14:54:26.277089Z",
     "iopub.status.idle": "2022-11-23T14:54:26.291494Z",
     "shell.execute_reply": "2022-11-23T14:54:26.290339Z"
    },
    "papermill": {
     "duration": 0.044314,
     "end_time": "2022-11-23T14:54:26.293832",
     "exception": false,
     "start_time": "2022-11-23T14:54:26.249518",
     "status": "completed"
    },
    "tags": []
   },
   "outputs": [
    {
     "name": "stdout",
     "output_type": "stream",
     "text": [
      "Revenue Per 1,000 impressions: campaign ID 1178 > 936\n",
      "Very Likely\n",
      "\n"
     ]
    }
   ],
   "source": [
    "print('Revenue Per 1,000 impressions: campaign ID 1178 > 936')\n",
    "p = p_value_two_sample(marketing, 'xyz_campaign_id', [1178, 936], 'rpm')\n",
    "if p < 0.05:\n",
    "    print('Very Likely\\n')\n",
    "else:\n",
    "    print('Very Unlikely\\n')"
   ]
  },
  {
   "cell_type": "markdown",
   "id": "b517d722",
   "metadata": {
    "papermill": {
     "duration": 0.025157,
     "end_time": "2022-11-23T14:54:26.344934",
     "exception": false,
     "start_time": "2022-11-23T14:54:26.319777",
     "status": "completed"
    },
    "tags": []
   },
   "source": [
    "#### P value of the t test is below signifance level(0.05). \n",
    "#### Therefore, it is very likely that the campaign 1178 outperformed the campaign 936 in RPM."
   ]
  },
  {
   "cell_type": "code",
   "execution_count": 52,
   "id": "fcd92d8a",
   "metadata": {
    "execution": {
     "iopub.execute_input": "2022-11-23T14:54:26.397874Z",
     "iopub.status.busy": "2022-11-23T14:54:26.397022Z",
     "iopub.status.idle": "2022-11-23T14:54:26.442560Z",
     "shell.execute_reply": "2022-11-23T14:54:26.441436Z"
    },
    "papermill": {
     "duration": 0.074531,
     "end_time": "2022-11-23T14:54:26.444923",
     "exception": false,
     "start_time": "2022-11-23T14:54:26.370392",
     "status": "completed"
    },
    "tags": []
   },
   "outputs": [
    {
     "data": {
      "text/html": [
       "<div>\n",
       "<style scoped>\n",
       "    .dataframe tbody tr th:only-of-type {\n",
       "        vertical-align: middle;\n",
       "    }\n",
       "\n",
       "    .dataframe tbody tr th {\n",
       "        vertical-align: top;\n",
       "    }\n",
       "\n",
       "    .dataframe thead th {\n",
       "        text-align: right;\n",
       "    }\n",
       "</style>\n",
       "<table border=\"1\" class=\"dataframe\">\n",
       "  <thead>\n",
       "    <tr style=\"text-align: right;\">\n",
       "      <th></th>\n",
       "      <th>Contrast</th>\n",
       "      <th>A</th>\n",
       "      <th>B</th>\n",
       "      <th>Paired</th>\n",
       "      <th>Parametric</th>\n",
       "      <th>T</th>\n",
       "      <th>dof</th>\n",
       "      <th>alternative</th>\n",
       "      <th>p-unc</th>\n",
       "      <th>p-corr</th>\n",
       "      <th>p-adjust</th>\n",
       "      <th>BF10</th>\n",
       "      <th>hedges</th>\n",
       "    </tr>\n",
       "  </thead>\n",
       "  <tbody>\n",
       "    <tr>\n",
       "      <th>0</th>\n",
       "      <td>xyz_campaign_id</td>\n",
       "      <td>916</td>\n",
       "      <td>936</td>\n",
       "      <td>False</td>\n",
       "      <td>True</td>\n",
       "      <td>-0.799053</td>\n",
       "      <td>46.620662</td>\n",
       "      <td>two-sided</td>\n",
       "      <td>4.283120e-01</td>\n",
       "      <td>1.000000e+00</td>\n",
       "      <td>bonf</td>\n",
       "      <td>0.255</td>\n",
       "      <td>-0.124276</td>\n",
       "    </tr>\n",
       "    <tr>\n",
       "      <th>1</th>\n",
       "      <td>xyz_campaign_id</td>\n",
       "      <td>916</td>\n",
       "      <td>1178</td>\n",
       "      <td>False</td>\n",
       "      <td>True</td>\n",
       "      <td>-6.099463</td>\n",
       "      <td>36.099998</td>\n",
       "      <td>two-sided</td>\n",
       "      <td>5.064027e-07</td>\n",
       "      <td>1.519208e-06</td>\n",
       "      <td>bonf</td>\n",
       "      <td>4.592e+06</td>\n",
       "      <td>-1.399660</td>\n",
       "    </tr>\n",
       "    <tr>\n",
       "      <th>2</th>\n",
       "      <td>xyz_campaign_id</td>\n",
       "      <td>936</td>\n",
       "      <td>1178</td>\n",
       "      <td>False</td>\n",
       "      <td>True</td>\n",
       "      <td>-11.806778</td>\n",
       "      <td>391.190244</td>\n",
       "      <td>two-sided</td>\n",
       "      <td>1.003456e-27</td>\n",
       "      <td>3.010368e-27</td>\n",
       "      <td>bonf</td>\n",
       "      <td>4.975e+26</td>\n",
       "      <td>-0.994823</td>\n",
       "    </tr>\n",
       "  </tbody>\n",
       "</table>\n",
       "</div>"
      ],
      "text/plain": [
       "          Contrast    A     B  Paired  Parametric          T         dof  \\\n",
       "0  xyz_campaign_id  916   936   False        True  -0.799053   46.620662   \n",
       "1  xyz_campaign_id  916  1178   False        True  -6.099463   36.099998   \n",
       "2  xyz_campaign_id  936  1178   False        True -11.806778  391.190244   \n",
       "\n",
       "  alternative         p-unc        p-corr p-adjust       BF10    hedges  \n",
       "0   two-sided  4.283120e-01  1.000000e+00     bonf      0.255 -0.124276  \n",
       "1   two-sided  5.064027e-07  1.519208e-06     bonf  4.592e+06 -1.399660  \n",
       "2   two-sided  1.003456e-27  3.010368e-27     bonf  4.975e+26 -0.994823  "
      ]
     },
     "execution_count": 52,
     "metadata": {},
     "output_type": "execute_result"
    }
   ],
   "source": [
    "pingouin.pairwise_tests(data = marketing, dv= 'rpc', between = 'xyz_campaign_id', padjust = 'bonf')"
   ]
  },
  {
   "cell_type": "markdown",
   "id": "5daa1d99",
   "metadata": {
    "papermill": {
     "duration": 0.025281,
     "end_time": "2022-11-23T14:54:26.495879",
     "exception": false,
     "start_time": "2022-11-23T14:54:26.470598",
     "status": "completed"
    },
    "tags": []
   },
   "source": [
    "#### It appears that the difference in revenue per click between campaign 1178 and the others is statistically significant."
   ]
  },
  {
   "cell_type": "code",
   "execution_count": 53,
   "id": "9d0c816b",
   "metadata": {
    "execution": {
     "iopub.execute_input": "2022-11-23T14:54:26.549482Z",
     "iopub.status.busy": "2022-11-23T14:54:26.549073Z",
     "iopub.status.idle": "2022-11-23T14:54:26.568546Z",
     "shell.execute_reply": "2022-11-23T14:54:26.567331Z"
    },
    "papermill": {
     "duration": 0.049552,
     "end_time": "2022-11-23T14:54:26.570984",
     "exception": false,
     "start_time": "2022-11-23T14:54:26.521432",
     "status": "completed"
    },
    "tags": []
   },
   "outputs": [
    {
     "name": "stdout",
     "output_type": "stream",
     "text": [
      "Revenue Per clicks\n",
      "\n",
      "RPC 1178 > 916: 3.691177300479964e-07\n",
      "Very Likely\n",
      "\n",
      "RPC 1178 > 936: 0.0\n",
      "Very Likely\n",
      "\n"
     ]
    }
   ],
   "source": [
    "print('Revenue Per clicks\\n')\n",
    "for b in [916, 936]:\n",
    "    p = p_value_two_sample(marketing, 'xyz_campaign_id', [1178, b], 'rpc')\n",
    "    print(f'RPC 1178 > {b}: {p}')\n",
    "    if p < 0.05:\n",
    "        print('Very Likely\\n')\n",
    "    else:\n",
    "        print('Very Unlikely\\n')"
   ]
  },
  {
   "cell_type": "markdown",
   "id": "5e3d5327",
   "metadata": {
    "papermill": {
     "duration": 0.025588,
     "end_time": "2022-11-23T14:54:26.622717",
     "exception": false,
     "start_time": "2022-11-23T14:54:26.597129",
     "status": "completed"
    },
    "tags": []
   },
   "source": [
    "## Conclusion\n",
    "\n",
    "> #### 1) The age group 30 to 34 are more likely to be converted than the age group 35 to 39 and the age group 45 to 49; about the same as 40 to 44.\n",
    "> #### 2) The conversion rates for male and female audience are likely to be the same.\n",
    "> #### 3) Ads Performance Metrics\n",
    ">> * As for click-through rate, all three campaigns are likely to have the same.\n",
    ">> * As for revenue per 1,000 impressions rate, the ads campaign 1178 is likely to be the highest.\n",
    ">> * As for revenue per click rate, the ads campaign 1178 is likely to be the highest.\n",
    "\n",
    "\n",
    "### The Best Target Audience: the age froup 30-35, 40-44\n",
    "### The Most Revenue Generating Ads: the campaign 1178"
   ]
  }
 ],
 "metadata": {
  "kernelspec": {
   "display_name": "Python 3",
   "language": "python",
   "name": "python3"
  },
  "language_info": {
   "codemirror_mode": {
    "name": "ipython",
    "version": 3
   },
   "file_extension": ".py",
   "mimetype": "text/x-python",
   "name": "python",
   "nbconvert_exporter": "python",
   "pygments_lexer": "ipython3",
   "version": "3.7.12"
  },
  "papermill": {
   "default_parameters": {},
   "duration": 38.152885,
   "end_time": "2022-11-23T14:54:27.470058",
   "environment_variables": {},
   "exception": null,
   "input_path": "__notebook__.ipynb",
   "output_path": "__notebook__.ipynb",
   "parameters": {},
   "start_time": "2022-11-23T14:53:49.317173",
   "version": "2.3.4"
  }
 },
 "nbformat": 4,
 "nbformat_minor": 5
}
